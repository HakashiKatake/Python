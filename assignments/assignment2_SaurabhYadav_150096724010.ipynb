{
 "cells": [
  {
   "cell_type": "code",
   "execution_count": 1,
   "metadata": {},
   "outputs": [
    {
     "name": "stdout",
     "output_type": "stream",
     "text": [
      "(2, 8)\n"
     ]
    }
   ],
   "source": [
    "#Write a Python function that accepts a string and counts the number of upper and lowercase letters.\n",
    "\n",
    "def count_upper_lower(string):\n",
    "    upper_count = 0\n",
    "    lower_count = 0\n",
    "    for char in string:\n",
    "        if char.isupper():\n",
    "            upper_count += 1\n",
    "        elif char.islower():\n",
    "            lower_count += 1\n",
    "    return upper_count, lower_count\n",
    "\n",
    "print(count_upper_lower(\"Hello World\"))"
   ]
  },
  {
   "cell_type": "code",
   "execution_count": 3,
   "metadata": {},
   "outputs": [
    {
     "name": "stdout",
     "output_type": "stream",
     "text": [
      "(3, 12)\n"
     ]
    }
   ],
   "source": [
    "#Sample String : 'The quick Brow Fox'\n",
    "#Expected Output :\n",
    "#No. of Upper case characters : 3\n",
    "#No. of Lower case Characters : 12\n",
    "\n",
    "def count_upper_lower(string):\n",
    "    upper_count = 0\n",
    "    lower_count = 0\n",
    "    for char in string:\n",
    "        if char.isupper():\n",
    "            upper_count += 1\n",
    "        elif char.islower():\n",
    "            lower_count += 1\n",
    "    return upper_count, lower_count\n",
    "\n",
    "print(count_upper_lower(\"The quick Brow Fox\"))\n",
    "\n"
   ]
  },
  {
   "cell_type": "code",
   "execution_count": 4,
   "metadata": {},
   "outputs": [
    {
     "name": "stdout",
     "output_type": "stream",
     "text": [
      "[1, 2, 3, 4, 5]\n"
     ]
    }
   ],
   "source": [
    "#Write a Python function that takes a list and returns a new list with distinct elements from the first list.\n",
    "\n",
    "def distinct_elements(list1):\n",
    "    return list(set(list1))\n",
    "\n",
    "print(distinct_elements([1,2,3,3,3,3,4,5]))"
   ]
  },
  {
   "cell_type": "code",
   "execution_count": 7,
   "metadata": {},
   "outputs": [
    {
     "name": "stdout",
     "output_type": "stream",
     "text": [
      "True\n"
     ]
    }
   ],
   "source": [
    "#Write a Python function to check whether a number is \"Perfect\" or not.\n",
    "\n",
    "def perfect_num(n):\n",
    "    sum = 0\n",
    "    for i in range(1, n):\n",
    "        if n % i == 0:\n",
    "            sum += i\n",
    "    return sum == n\n",
    "\n",
    "print(perfect_num(28))"
   ]
  },
  {
   "cell_type": "code",
   "execution_count": 9,
   "metadata": {},
   "outputs": [
    {
     "name": "stdout",
     "output_type": "stream",
     "text": [
      "1-2-3-4\n"
     ]
    }
   ],
   "source": [
    "#Write a Python program that accepts a hyphen-separated sequence of words as input and prints the words in a hyphen-separated sequence after sorting them alphabetically.\n",
    "\n",
    "def sort_words(words):\n",
    "    return '-'.join(sorted(words.split('-')))\n",
    "\n",
    "print(sort_words(\"1-4-3-2\"))"
   ]
  },
  {
   "cell_type": "code",
   "execution_count": 10,
   "metadata": {},
   "outputs": [
    {
     "name": "stdout",
     "output_type": "stream",
     "text": [
      "1 2 3\n"
     ]
    }
   ],
   "source": [
    "#WAP to demonstrate the functionality of positional argument in functions\n",
    "\n",
    "def positional_arg(a, b, c):\n",
    "    print(a, b, c)\n",
    "\n",
    "positional_arg(1, 2, 3)"
   ]
  },
  {
   "cell_type": "code",
   "execution_count": 11,
   "metadata": {},
   "outputs": [
    {
     "name": "stdout",
     "output_type": "stream",
     "text": [
      "1 2 3\n"
     ]
    }
   ],
   "source": [
    "#WAP to demonstrate the functionality of keyword argument in functions\n",
    "\n",
    "def keyword_arg(a, b, c):\n",
    "    print(a, b, c)\n",
    "\n",
    "keyword_arg(a=1, b=2, c=3)"
   ]
  },
  {
   "cell_type": "code",
   "execution_count": 12,
   "metadata": {},
   "outputs": [
    {
     "name": "stdout",
     "output_type": "stream",
     "text": [
      "1 2 3\n",
      "1 2 3\n"
     ]
    }
   ],
   "source": [
    "#WAP to demonstrate how positional arguments and keyword arguments can be used in functions\n",
    "\n",
    "def positional_keyword_arg(a, b, c):\n",
    "    print(a, b, c)\n",
    "\n",
    "positional_keyword_arg(1, 2, 3)\n",
    "positional_keyword_arg(a=1, b=2, c=3)"
   ]
  },
  {
   "cell_type": "code",
   "execution_count": 13,
   "metadata": {},
   "outputs": [
    {
     "name": "stdout",
     "output_type": "stream",
     "text": [
      "1 2 3\n",
      "10 20 30\n",
      "10 20 30\n"
     ]
    }
   ],
   "source": [
    "#WAP to demonstrate the functionality of default argument in functions\n",
    "\n",
    "def default_arg(a=1, b=2, c=3):\n",
    "    print(a, b, c)\n",
    "\n",
    "default_arg()\n",
    "default_arg(10, 20, 30)\n",
    "default_arg(a=10, b=20, c=30)"
   ]
  },
  {
   "cell_type": "code",
   "execution_count": 15,
   "metadata": {},
   "outputs": [
    {
     "name": "stdout",
     "output_type": "stream",
     "text": [
      "(1, 2, 3, 4, 5)\n",
      "('Hello', 'World')\n"
     ]
    }
   ],
   "source": [
    "#WAP to demonstrate how variable length arguments are used in functions.\n",
    "\n",
    "def variable_length_arg(*args):\n",
    "    print(args)\n",
    "\n",
    "variable_length_arg(1, 2, 3, 4, 5)\n",
    "variable_length_arg(\"Hello\", \"World\")"
   ]
  },
  {
   "cell_type": "code",
   "execution_count": 16,
   "metadata": {},
   "outputs": [
    {
     "name": "stdout",
     "output_type": "stream",
     "text": [
      "{'a': 1, 'b': 2, 'c': 3}\n",
      "{'name': 'Saurabh', 'age': 20, 'city': 'New York'}\n"
     ]
    }
   ],
   "source": [
    "#WAP to demonstrate how variable length keyword arguments are used in functions.\n",
    "\n",
    "def variable_length_keyword_arg(**kwargs):\n",
    "    print(kwargs)\n",
    "\n",
    "variable_length_keyword_arg(a=1, b=2, c=3)\n",
    "variable_length_keyword_arg(name=\"Saurabh\", age=20, city=\"New York\")"
   ]
  },
  {
   "cell_type": "code",
   "execution_count": 17,
   "metadata": {},
   "outputs": [
    {
     "name": "stdout",
     "output_type": "stream",
     "text": [
      "4.0\n",
      "8.0\n",
      "3.141592653589793\n"
     ]
    }
   ],
   "source": [
    "#WAP to demonstrate how to create your own modules for common mathematical operations and import it and use it.\n",
    "\n",
    "import math\n",
    "\n",
    "print(math.sqrt(16))\n",
    "print(math.pow(2, 3))\n",
    "print(math.pi)"
   ]
  },
  {
   "cell_type": "code",
   "execution_count": 18,
   "metadata": {},
   "outputs": [
    {
     "name": "stdout",
     "output_type": "stream",
     "text": [
      "2\n",
      "1\n",
      "1\n",
      "120\n",
      "1.2\n",
      "8.0\n",
      "1.0\n",
      "15.0\n",
      "120\n",
      "4.0\n"
     ]
    }
   ],
   "source": [
    "#WAP to demonstrate following functions in math module:\n",
    "#a. Ceil\n",
    "#b. Trunc\n",
    "#c. Floor\n",
    "#d. Factorial\n",
    "#e. Fabs\n",
    "#f. Pow\n",
    "#g. Fmod\n",
    "#h. Fsum\n",
    "#i. Prod\n",
    "#j. sqrt\n",
    "\n",
    "print(math.ceil(1.2))\n",
    "print(math.trunc(1.2))\n",
    "print(math.floor(1.2))\n",
    "print(math.factorial(5))\n",
    "print(math.fabs(-1.2))\n",
    "print(math.pow(2, 3))\n",
    "print(math.fmod(10, 3))\n",
    "print(math.fsum([1, 2, 3, 4, 5]))\n",
    "print(math.prod([1, 2, 3, 4, 5]))\n",
    "print(math.sqrt(16))"
   ]
  },
  {
   "cell_type": "code",
   "execution_count": 3,
   "metadata": {},
   "outputs": [
    {
     "name": "stdout",
     "output_type": "stream",
     "text": [
      "0.4566720044712216\n",
      "8\n",
      "2.226599392158444\n",
      "5\n",
      "None\n",
      "5\n"
     ]
    }
   ],
   "source": [
    "#WAP to demonstrate following functions in random module:\n",
    "import random\n",
    "\n",
    "print(random.random())\n",
    "print(random.randint(1, 10))\n",
    "print(random.uniform(1, 10))\n",
    "print(random.choice([1, 2, 3, 4, 5]))\n",
    "print(random.shuffle([1, 2, 3, 4, 5]))\n",
    "print(random.randrange(1, 10, 2))\n"
   ]
  },
  {
   "cell_type": "code",
   "execution_count": 4,
   "metadata": {},
   "outputs": [
    {
     "name": "stdout",
     "output_type": "stream",
     "text": [
      "[1, 2, 3, 4, 5]\n"
     ]
    }
   ],
   "source": [
    "#Write a Python program to remove duplicates from a list.\n",
    "\n",
    "\n",
    "def remove_duplicates(list1):\n",
    "    return list(set(list1))\n",
    "\n",
    "print(remove_duplicates([1, 2, 3, 3, 3, 3, 4, 5]))"
   ]
  },
  {
   "cell_type": "code",
   "execution_count": 9,
   "metadata": {},
   "outputs": [
    {
     "name": "stdout",
     "output_type": "stream",
     "text": [
      "{5}\n"
     ]
    }
   ],
   "source": [
    "#Write a Python func;on that takes two lists and returns True if they have at least one common member.\n",
    "\n",
    "def common_member(list1, list2):\n",
    "    return set(list1).intersection(set(list2))\n",
    "\n",
    "print(common_member([1, 2, 3, 4, 5], [5, 6, 7, 8, 9]))"
   ]
  },
  {
   "cell_type": "code",
   "execution_count": 10,
   "metadata": {},
   "outputs": [
    {
     "name": "stdout",
     "output_type": "stream",
     "text": [
      "[1, 3, 5, 7, 9]\n"
     ]
    }
   ],
   "source": [
    "#Write a Python program to print the numbers of a specified list after removing even numbers from it.\n",
    "\n",
    "def remove_even(list1):\n",
    "    return [i for i in list1 if i % 2 != 0]\n",
    "\n",
    "print(remove_even([1, 2, 3, 4, 5, 6, 7, 8, 9]))"
   ]
  },
  {
   "cell_type": "code",
   "execution_count": 12,
   "metadata": {},
   "outputs": [
    {
     "name": "stdout",
     "output_type": "stream",
     "text": [
      "5\n"
     ]
    }
   ],
   "source": [
    "#Write a Python program to find the second smallest number in a list.\n",
    "\n",
    "def second_smallest(list1):\n",
    "    return sorted(list1)[1]\n",
    "\n",
    "print(second_smallest([4,5,6,8]))"
   ]
  },
  {
   "cell_type": "code",
   "execution_count": 13,
   "metadata": {},
   "outputs": [
    {
     "name": "stdout",
     "output_type": "stream",
     "text": [
      "[[1, 4, 7], [2, 5, 8], [3, 6, 9]]\n"
     ]
    }
   ],
   "source": [
    "#Write a Python program to split a list every Nth element.\n",
    "\n",
    "def split_list(list1, n):\n",
    "    return [list1[i::n] for i in range(n)]\n",
    "\n",
    "print(split_list([1,2,3,4,5,6,7,8,9], 3))"
   ]
  },
  {
   "cell_type": "code",
   "execution_count": 17,
   "metadata": {},
   "outputs": [
    {
     "name": "stdout",
     "output_type": "stream",
     "text": [
      "Union lists and intersection lists:  ({1, 2, 3, 4, 5, 6, 7, 8}, {4, 5})\n"
     ]
    }
   ],
   "source": [
    "#Write a Python func;on to find the union and intersec;on of two lists.\n",
    "\n",
    "def union_intersection(list1, list2):\n",
    "    return set(list1).union(set(list2)), set(list1).intersection(set(list2))\n",
    "\n",
    "print(\"Union lists and intersection lists: \", union_intersection([1, 2, 3, 4, 5], [4, 5, 6, 7, 8]))"
   ]
  },
  {
   "cell_type": "code",
   "execution_count": 20,
   "metadata": {},
   "outputs": [
    {
     "name": "stdout",
     "output_type": "stream",
     "text": [
      "True\n",
      "False\n"
     ]
    }
   ],
   "source": [
    "#Write a Python func;on to check if a list is a palindrome or not. Return true otherwise false.\n",
    "\n",
    "def palindrome(list1):\n",
    "    return list1 == list1[::-1]\n",
    "\n",
    "print(palindrome([3,5,3]))\n",
    "print(palindrome([3,5,4]))"
   ]
  },
  {
   "cell_type": "code",
   "execution_count": 26,
   "metadata": {},
   "outputs": [
    {
     "name": "stdout",
     "output_type": "stream",
     "text": [
      "1. Insertion\n",
      "2. Deletion\n",
      "3. Access\n",
      "4. Updation\n",
      "5. Traversal\n",
      "6. Exit\n",
      "['3']\n",
      "1. Insertion\n",
      "2. Deletion\n",
      "3. Access\n",
      "4. Updation\n",
      "5. Traversal\n",
      "6. Exit\n",
      "Element not found in the list.\n",
      "['3']\n",
      "1. Insertion\n",
      "2. Deletion\n",
      "3. Access\n",
      "4. Updation\n",
      "5. Traversal\n",
      "6. Exit\n",
      "[]\n",
      "1. Insertion\n",
      "2. Deletion\n",
      "3. Access\n",
      "4. Updation\n",
      "5. Traversal\n",
      "6. Exit\n",
      "Exiting the program.\n"
     ]
    }
   ],
   "source": [
    "def menu():\n",
    "    list1 = []\n",
    "    while True:\n",
    "        print(\"1. Insertion\")\n",
    "        print(\"2. Deletion\")\n",
    "        print(\"3. Access\")\n",
    "        print(\"4. Updation\")\n",
    "        print(\"5. Traversal\")\n",
    "        print(\"6. Exit\")\n",
    "        choice = input(\"Enter your choice: \").lower()\n",
    "        \n",
    "        if choice in ['1', 'insertion']:\n",
    "            list1.append(input(\"Enter the element to be inserted: \"))\n",
    "            print(list1)\n",
    "        elif choice in ['2', 'deletion']:\n",
    "            element = input(\"Enter the element to be deleted: \")\n",
    "            if element in list1:\n",
    "                list1.remove(element)\n",
    "            else:\n",
    "                print(\"Element not found in the list.\")\n",
    "            print(list1)\n",
    "        elif choice in ['3', 'access']:\n",
    "            try:\n",
    "                index = int(input(\"Enter the index of the element to be accessed: \"))\n",
    "                if 0 <= index < len(list1):\n",
    "                    print(list1[index])\n",
    "                else:\n",
    "                    print(\"Invalid index.\")\n",
    "            except ValueError:\n",
    "                print(\"Please enter a valid integer for the index.\")\n",
    "        elif choice in ['4', 'updation']:\n",
    "            try:\n",
    "                index = int(input(\"Enter the index of the element to be updated: \"))\n",
    "                if 0 <= index < len(list1):\n",
    "                    list1[index] = input(\"Enter the new element: \")\n",
    "                    print(list1)\n",
    "                else:\n",
    "                    print(\"Invalid index.\")\n",
    "            except ValueError:\n",
    "                print(\"Please enter a valid integer for the index.\")\n",
    "        elif choice in ['5', 'traversal']:\n",
    "            for i in list1:\n",
    "                print(i)\n",
    "        elif choice in ['6', 'exit']:\n",
    "            print(\"Exiting the program.\")\n",
    "            return\n",
    "        else:\n",
    "            print(\"Invalid choice. Please try again.\")\n",
    "\n",
    "menu()"
   ]
  },
  {
   "cell_type": "code",
   "execution_count": null,
   "metadata": {},
   "outputs": [],
   "source": [
    "#WAP to create create, access, add elements, delete, modify elements in nested list.\n",
    "\n",
    "def nested_list():\n",
    "    list1 = []\n",
    "    while True:\n",
    "        print(\"1. Create\")\n",
    "        print(\"2. Access\")\n",
    "        print(\"3. Add elements\")\n",
    "        print(\"4. Delete elements\")\n",
    "        print(\"5. Modify elements\")\n",
    "        print(\"6. Exit\")\n",
    "        choice = int(input(\"Enter your choice: \"))\n",
    "        if choice in ['1', 'create']:\n",
    "            list1 = []\n",
    "            print(list1)\n",
    "        elif choice in ['2', 'access']:\n",
    "            element = input(\"Enter the element to be accessed: \")\n",
    "            if element in list1:    \n",
    "                print((element))\n",
    "            else:\n",
    "                print(\"Element not found in the list.\")\n",
    "        elif choice in ['3', 'add elements']:\n",
    "            list1.append(input(\"Enter the element to be added: \"))\n",
    "            print(list1)\n",
    "        elif choice in ['4', 'delete elements']:\n",
    "            element = input(\"Enter the element to be deleted: \")\n",
    "            if element in list1:\n",
    "                list1.remove(element)\n",
    "            else:\n",
    "                print(\"Element not found in the list.\")\n",
    "            print(list1)\n",
    "        elif choice in ['5', 'modify elements']:\n",
    "            try:\n",
    "                index = int(input(\"Enter the index of the element to be modified: \"))\n",
    "                if 0 <= index < len(list1):\n",
    "                    list1[index] = input(\"Enter the new element: \")\n",
    "                    print(list1)\n",
    "                else:\n",
    "                    print(\"Invalid index.\")\n",
    "            except ValueError:\n",
    "                print(\"Please enter a valid integer for the index.\")\n",
    "        elif choice in ['6', 'exit']:\n",
    "            print(\"Exiting the program.\")\n",
    "            return\n",
    "        else:\n",
    "            print(\"Invalid choice. Please try again.\")\n",
    "\n",
    "nested_list()\n",
    "        \n",
    "        "
   ]
  },
  {
   "cell_type": "code",
   "execution_count": 28,
   "metadata": {},
   "outputs": [
    {
     "name": "stdout",
     "output_type": "stream",
     "text": [
      "[10, 20, 30, 40, 50, 60, 70, 80, 90, 100]\n",
      "40\n",
      "[10, 20, 30, 40]\n",
      "[]\n",
      "[10, 20, 30, 40, 50, 60, 70, 80, 90, 100, 110]\n",
      "[10, 20, 30, 40, 50, 60, 70, 80, 90, 100, 110]\n",
      "[10, 20, 30, 40, 50, 60, 70, 80, 90, 100]\n",
      "[10, 30, 40, 50, 60, 70, 80, 90, 100]\n",
      "[5, 10, 30, 40, 50, 60, 70, 80, 90, 100]\n",
      "1\n",
      "[5, 10, 30, 40, 50, 60, 70, 80, 90, 100, 11, 12, 13]\n",
      "[13, 12, 11, 100, 90, 80, 70, 60, 50, 40, 30, 10, 5]\n"
     ]
    }
   ],
   "source": [
    "#Write a program for various list slicing operation.\n",
    "a= [10,20,30,40,50,60,70,80,90,100]\n",
    "#i. Print Complete list\n",
    "print(a[:])\n",
    "#ii. Print 4th element of list\n",
    "print(a[3])\n",
    "#iii. Print list from 0th to 4th index.\n",
    "print(a[0:4])\n",
    "#iv. Print list -7th to 3rd element\n",
    "print(a[-7:3])\n",
    "#v. Appending an element to list.\n",
    "a.append(110)\n",
    "print(a)\n",
    "#vi. Sorting the element of list.\n",
    "a.sort()\n",
    "print(a)\n",
    "#vii. Popping an element.\n",
    "a.pop()\n",
    "print(a)\n",
    "#viii. Removing Specified element.\n",
    "a.remove(20)\n",
    "print(a)\n",
    "#ix. Entering an element at specified index.\n",
    "a.insert(0, 5)\n",
    "print(a)\n",
    "#x. Counting the occurrence of a specified element.\n",
    "print(a.count(10))\n",
    "#xi. Extending list.\n",
    "a.extend([11,12,13])\n",
    "print(a)\n",
    "#xii. Reversing the list.\n",
    "a.reverse()\n",
    "print(a)"
   ]
  },
  {
   "cell_type": "code",
   "execution_count": 30,
   "metadata": {},
   "outputs": [
    {
     "name": "stdout",
     "output_type": "stream",
     "text": [
      "[[4, 6, 8], [8, 10, 13], [14, 12, 17]]\n"
     ]
    }
   ],
   "source": [
    "#WAP to add two matrices using nested list\n",
    "\n",
    "list1 = [[1,2,3], [4,5,6], [7,8,9]]\n",
    "list2 = [[3,4,5], [4,5,7], [7,4,8]]\n",
    "result = [[list1[i][j] + list2[i][j] \n",
    "           for j in range(len(list1[0]))] \n",
    "           for i in range(len(list1))]\n",
    "print(result)\n",
    "\n",
    "\n",
    "\n"
   ]
  },
  {
   "cell_type": "code",
   "execution_count": 31,
   "metadata": {},
   "outputs": [
    {
     "name": "stdout",
     "output_type": "stream",
     "text": [
      "[1, 4, 9, 0, 4]\n"
     ]
    }
   ],
   "source": [
    "#Consider a list with mixed type of elements such as l1=[1,’x’,4,5.6,’z’,9,’a’,0,4]. Create\n",
    "#another list l2 using list comprehension which consist of only integer element present\n",
    "#within list l1.\n",
    "\n",
    "l1=[1,'x',4,5.6,'z',9,'a',0,4]\n",
    "l2 = [i for i in l1 if type(i) == int]\n",
    "print(l2)"
   ]
  },
  {
   "cell_type": "code",
   "execution_count": 34,
   "metadata": {},
   "outputs": [
    {
     "name": "stdout",
     "output_type": "stream",
     "text": [
      "(5, 7, 9)\n"
     ]
    }
   ],
   "source": [
    "#Write a Python program to compute the element-wise sum of given tuples.\n",
    "\n",
    "tuple1 = (1,2,3)\n",
    "tuple2 = (4,5,6)\n",
    "result = tuple(map(sum, zip(tuple1, tuple2)))\n",
    "print(result)"
   ]
  },
  {
   "cell_type": "code",
   "execution_count": 1,
   "metadata": {},
   "outputs": [
    {
     "name": "stdout",
     "output_type": "stream",
     "text": [
      "(6, 9, 8, 6)\n"
     ]
    }
   ],
   "source": [
    "#Original : (1, 2, 3, 4) (3, 5, 2, 1) (2, 2, 3, 1)\n",
    "#Element-wise sum of the said tuples: (6, 9, 8, 6)\n",
    "\n",
    "tuple1 = (1, 2, 3, 4)\n",
    "tuple2 = (3, 5, 2, 1)\n",
    "tuple3 = (2, 2, 3, 1)\n",
    "result = tuple(map(sum, zip(tuple1, tuple2, tuple3)))\n",
    "print(result)\n",
    "\n",
    "\n",
    "\n"
   ]
  },
  {
   "cell_type": "code",
   "execution_count": 2,
   "metadata": {},
   "outputs": [
    {
     "name": "stdout",
     "output_type": "stream",
     "text": [
      "[[1, 2], [2, 3], [3, 4]]\n"
     ]
    }
   ],
   "source": [
    "#Write a Python program to convert a given list of tuples to a list of lists.\n",
    "\n",
    "list_of_tuples = [(1, 2), (2, 3), (3, 4)]\n",
    "list_of_lists = [list(tup) for tup in list_of_tuples]\n",
    "print(list_of_lists)\n"
   ]
  },
  {
   "cell_type": "code",
   "execution_count": 3,
   "metadata": {},
   "outputs": [
    {
     "name": "stdout",
     "output_type": "stream",
     "text": [
      "[(1, 2), (2, 3), (3, 4)]\n"
     ]
    }
   ],
   "source": [
    "#Write a Python program to remove an empty tuple(s) from a list of tuples.\n",
    "\n",
    "list_of_tuples = [(1, 2), (2, 3), (3, 4), (), ()]\n",
    "list_of_tuples = [tup for tup in list_of_tuples if tup]\n",
    "print(list_of_tuples)"
   ]
  },
  {
   "cell_type": "code",
   "execution_count": 4,
   "metadata": {},
   "outputs": [
    {
     "name": "stdout",
     "output_type": "stream",
     "text": [
      "('H', 'e', 'l', 'l', 'o', ' ', 'W', 'o', 'r', 'l', 'd')\n"
     ]
    }
   ],
   "source": [
    "#Write a Python program to convert a given string to a tuple\n",
    "\n",
    "string = \"Hello World\"\n",
    "tuple_string = tuple(string)\n",
    "print(tuple_string)"
   ]
  },
  {
   "cell_type": "code",
   "execution_count": 5,
   "metadata": {},
   "outputs": [
    {
     "name": "stdout",
     "output_type": "stream",
     "text": [
      "120\n"
     ]
    }
   ],
   "source": [
    "#Write a Python program to calculate the product, multiplying all the numbers in a given tuple.\n",
    "\n",
    "tuple_numbers = (1, 2, 3, 4, 5)\n",
    "product = 1\n",
    "for number in tuple_numbers:\n",
    "    product *= number\n",
    "print(product)"
   ]
  },
  {
   "cell_type": "code",
   "execution_count": 6,
   "metadata": {},
   "outputs": [
    {
     "name": "stdout",
     "output_type": "stream",
     "text": [
      "[1, 4, 9, 16, 25, 36, 49, 64, 81, 100, 121, 144, 169, 196, 225, 256, 289, 324, 361, 400]\n"
     ]
    }
   ],
   "source": [
    "#WAP to create a list of square of numbers from 1 to 20 using List comprehension\n",
    "\n",
    "square_numbers = [i**2 for i in range(1, 21)]\n",
    "print(square_numbers)\n",
    "\n"
   ]
  },
  {
   "cell_type": "code",
   "execution_count": 7,
   "metadata": {},
   "outputs": [
    {
     "name": "stdout",
     "output_type": "stream",
     "text": [
      "{1, 2, 4, 5}\n"
     ]
    }
   ],
   "source": [
    "#Write a Python program to remove an item from a set if it is present in the set.\n",
    "\n",
    "set1 = {1, 2, 3, 4, 5}\n",
    "item = 3\n",
    "if item in set1:\n",
    "    set1.remove(item)\n",
    "print(set1)"
   ]
  },
  {
   "cell_type": "code",
   "execution_count": 8,
   "metadata": {},
   "outputs": [
    {
     "name": "stdout",
     "output_type": "stream",
     "text": [
      "Two sets have no elements in common\n"
     ]
    }
   ],
   "source": [
    "#Write a Python program to check if two given sets have no elements in common\n",
    "\n",
    "set1 = {1, 2, 3, 4, 5}\n",
    "set2 = {6, 7, 8, 9, 10}\n",
    "if set1.isdisjoint(set2):\n",
    "    print(\"Two sets have no elements in common\")\n",
    "else:\n",
    "    print(\"Two sets have elements in common\")"
   ]
  },
  {
   "cell_type": "code",
   "execution_count": 9,
   "metadata": {},
   "outputs": [
    {
     "name": "stdout",
     "output_type": "stream",
     "text": [
      "{1, 2, 3, 6, 7, 8}\n"
     ]
    }
   ],
   "source": [
    "#Get Only unique items from two sets\n",
    "\n",
    "set1 = {1, 2, 3, 4, 5}\n",
    "set2 = {4, 5, 6, 7, 8}\n",
    "unique_items = set1.symmetric_difference(set2)\n",
    "print(unique_items)"
   ]
  },
  {
   "cell_type": "code",
   "execution_count": 10,
   "metadata": {},
   "outputs": [
    {
     "name": "stdout",
     "output_type": "stream",
     "text": [
      "12345\n"
     ]
    }
   ],
   "source": [
    "#Write a Python program to Convert Set to one String\n",
    "\n",
    "set1 = {1, 2, 3, 4, 5}\n",
    "string = ''.join(str(item) for item in set1)\n",
    "print(string)"
   ]
  },
  {
   "cell_type": "code",
   "execution_count": 11,
   "metadata": {},
   "outputs": [
    {
     "name": "stdout",
     "output_type": "stream",
     "text": [
      "3\n"
     ]
    }
   ],
   "source": [
    "#WAP to count number of vowels using sets in given string\n",
    "\n",
    "string = \"Hello World\"\n",
    "vowels = set(\"aeiouAEIOU\")\n",
    "count = sum(1 for char in string if char in vowels)\n",
    "print(count)"
   ]
  },
  {
   "cell_type": "code",
   "execution_count": 12,
   "metadata": {},
   "outputs": [
    {
     "name": "stdout",
     "output_type": "stream",
     "text": [
      "{512, 64, 1728, 8, 1000, 216}\n"
     ]
    }
   ],
   "source": [
    "#WAP to create a set of cubes of even numbers from 2 to 12 using set comprehension.\n",
    "\n",
    "cubes_of_even_numbers = {i**3 for i in range(2, 13) if i % 2 == 0}\n",
    "print(cubes_of_even_numbers)"
   ]
  },
  {
   "cell_type": "code",
   "execution_count": null,
   "metadata": {},
   "outputs": [],
   "source": [
    "#Write a Python script to sort (ascending and descending) a dic;onary by value.\n",
    "\n",
    "d = {'a': 1, 'b': 2, 'c': 3}\n",
    "sorted_d = sorted(d.items(), key=lambda x: x[1])\n",
    "print(sorted_d)\n",
    "sorted_d = sorted(d.items(), key=lambda x: x[1], reverse=True)\n",
    "print(sorted_d)"
   ]
  },
  {
   "cell_type": "code",
   "execution_count": 13,
   "metadata": {},
   "outputs": [
    {
     "name": "stdout",
     "output_type": "stream",
     "text": [
      "{'a': 300, 'b': 200, 'c': 300, 'd': 400}\n"
     ]
    }
   ],
   "source": [
    "#Write a Python program to combine two dic;onary by adding values for common keys.\n",
    "\n",
    "d1 = {'a': 100, 'b': 200, 'c':300}\n",
    "d2 = {'a': 300, 'b': 200, 'd':400}\n",
    "d1.update(d2)\n",
    "print(d1)"
   ]
  },
  {
   "cell_type": "code",
   "execution_count": 14,
   "metadata": {},
   "outputs": [
    {
     "name": "stdout",
     "output_type": "stream",
     "text": [
      "{'H': 1, 'e': 1, 'l': 3, 'o': 2, ' ': 1, 'W': 1, 'r': 1, 'd': 1}\n"
     ]
    }
   ],
   "source": [
    "#Write a Python program to create a dic;onary from a string. ( Track the count of the letters from the string.)\n",
    "\n",
    "string = \"Hello World\"\n",
    "letter_count = {letter: string.count(letter) for letter in string}\n",
    "print(letter_count)"
   ]
  },
  {
   "cell_type": "code",
   "execution_count": 15,
   "metadata": {},
   "outputs": [
    {
     "name": "stdout",
     "output_type": "stream",
     "text": [
      "Both dictionaries do not have the same keys and values\n"
     ]
    }
   ],
   "source": [
    "#Write a Python program to match key and values both, in two dic;onaries.\n",
    "\n",
    "d1 = {'a': 1, 'b': 2, 'c': 3}\n",
    "d2 = {'a': 1, 'b': 2, 'd': 4}\n",
    "if d1.keys() == d2.keys() and d1.values() == d2.values():\n",
    "    print(\"Both dictionaries have the same keys and values\")\n",
    "else:\n",
    "    print(\"Both dictionaries do not have the same keys and values\")"
   ]
  },
  {
   "cell_type": "code",
   "execution_count": 16,
   "metadata": {},
   "outputs": [
    {
     "name": "stdout",
     "output_type": "stream",
     "text": [
      "{'milk': 0.969, 'coffee': 2.375, 'bread': 2.375}\n"
     ]
    }
   ],
   "source": [
    "#Use dic;onary comprehension to convert the price of following dic;onary from dollar to pound\n",
    "\n",
    "old_price = {'milk': 1.02, 'coffee': 2.5, 'bread': 2.5}\n",
    "new_price = {item: value*0.95 for (item, value) in old_price.items()}\n",
    "print(new_price)"
   ]
  },
  {
   "cell_type": "code",
   "execution_count": 17,
   "metadata": {},
   "outputs": [
    {
     "name": "stdout",
     "output_type": "stream",
     "text": [
      "{'jack': 38, 'michael': 48}\n"
     ]
    }
   ],
   "source": [
    "#Use dic;onary comprehension to create a dic;onary to store only key value pairs having even age.\n",
    "original_dict = {'jack': 38, 'michael': 48, 'guido': 57, 'john': 33}\n",
    "even_age_dict = {key: value for (key, value) in original_dict.items() if value % 2 == 0}\n",
    "print(even_age_dict)"
   ]
  }
 ],
 "metadata": {
  "kernelspec": {
   "display_name": "Python 3",
   "language": "python",
   "name": "python3"
  },
  "language_info": {
   "codemirror_mode": {
    "name": "ipython",
    "version": 3
   },
   "file_extension": ".py",
   "mimetype": "text/x-python",
   "name": "python",
   "nbconvert_exporter": "python",
   "pygments_lexer": "ipython3",
   "version": "3.12.6"
  }
 },
 "nbformat": 4,
 "nbformat_minor": 2
}
