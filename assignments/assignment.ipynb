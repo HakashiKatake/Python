{
 "cells": [
  {
   "cell_type": "code",
   "execution_count": 1,
   "metadata": {},
   "outputs": [],
   "source": [
    "#WAP to check whether a number is even or odd.\n",
    "\n",
    "num = int(input(\"Enter a number: \"))\n",
    "\n",
    "if num % 2 == 0:\n",
    "    print(\"The number is even.\")\n",
    "else:\n",
    "    print(\"The number is odd.\")\n"
   ]
  },
  {
   "cell_type": "code",
   "execution_count": null,
   "metadata": {},
   "outputs": [],
   "source": [
    "#WAP to check whether person is eligible for voting.\n",
    "\n",
    "num = int(input(\"Enter your age: \"))\n",
    "\n",
    "if num >= 18:\n",
    "    print(\"You are eligible for voting.\")\n",
    "else:\n",
    "    print(\"You are not eligible for voting.\")"
   ]
  },
  {
   "cell_type": "code",
   "execution_count": 2,
   "metadata": {},
   "outputs": [
    {
     "name": "stdout",
     "output_type": "stream",
     "text": [
      "Its Monday\n"
     ]
    }
   ],
   "source": [
    "#WAP to enter a number between 1 to 7 as days of a week and print the day accordingly. (Monday, Tuesday ...) using if elif case.\n",
    "\n",
    "num = int(input(\"Enter a number between 1 to 7:\"))\n",
    "\n",
    "if num == 1:\n",
    "    print(\"Its Monday\")\n",
    "elif num == 2:\n",
    "    print(\"Its Tuesday\")\n",
    "elif num == 3:\n",
    "    print(\"Its Wednesday\")  \n",
    "elif num == 4:\n",
    "    print(\"Its Thursday\")\n",
    "elif num == 5:\n",
    "    print(\"Its Friday\")\n",
    "elif num == 6:\n",
    "    print(\"Its Saturday\")\n",
    "elif num == 7:\n",
    "    print(\"Its Sunday\")\n",
    "else:\n",
    "    print(\"Put a number between 1 to 7\")"
   ]
  },
  {
   "cell_type": "code",
   "execution_count": 5,
   "metadata": {},
   "outputs": [
    {
     "name": "stdout",
     "output_type": "stream",
     "text": [
      "2024 is a leap year.\n"
     ]
    }
   ],
   "source": [
    "#WAP to check whether a year is a leap year or not. A year is a leap year if “anyone of ” the following conditions are satisfied \n",
    "year = int(input(\"Enter a year: \"))\n",
    "\n",
    "if (year % 4 == 0 and year % 100 != 0) or (year % 400 == 0):\n",
    "    print(f\"{year} is a leap year.\")\n",
    "else:\n",
    "    print(f\"{year} is not a leap year.\")\n"
   ]
  },
  {
   "cell_type": "code",
   "execution_count": 8,
   "metadata": {},
   "outputs": [
    {
     "name": "stdout",
     "output_type": "stream",
     "text": [
      "Grade: F\n"
     ]
    }
   ],
   "source": [
    "#WAP to calculate to take in the marks of 5 subjects, compute average and display the grade as per following rules:\n",
    "sub1 = int(input(\"Enter marks of subject 1: \"))\n",
    "sub2 = int(input(\"Enter marks of subject 2: \"))\n",
    "sub3 = int(input(\"Enter marks of subject 3: \"))\n",
    "sub4 = int(input(\"Enter marks of subject 4: \"))\n",
    "sub5 = int(input(\"Enter marks of subject 5: \"))\n",
    "\n",
    "average = (sub1 + sub2 + sub3 + sub4 + sub5) / 5\n",
    "\n",
    "if average >= 90:\n",
    "    print(\"Grade: A\")\n",
    "elif average >= 80:\n",
    "    print(\"Grade: B\")\n",
    "elif average >= 70:\n",
    "    print(\"Grade: C\")\n",
    "elif average >= 60:\n",
    "    print(\"Grade: D\")\n",
    "else:\n",
    "    print(\"Grade: F\")"
   ]
  },
  {
   "cell_type": "code",
   "execution_count": 11,
   "metadata": {},
   "outputs": [
    {
     "name": "stdout",
     "output_type": "stream",
     "text": [
      "The character is a vowel.\n"
     ]
    }
   ],
   "source": [
    "#WAP to input a character. Check whether the character is vowel or consonant.\n",
    "\n",
    "char = input(\"Enter a character: \")\n",
    "\n",
    "if char in 'aeiou' or 'AEIOU':\n",
    "    print(\"The character is a vowel.\")\n",
    "else:\n",
    "    print(\"The character is a consonant.\")"
   ]
  },
  {
   "cell_type": "code",
   "execution_count": 14,
   "metadata": {},
   "outputs": [
    {
     "name": "stdout",
     "output_type": "stream",
     "text": [
      "Element 5 on the position 4 found in the list.\n"
     ]
    }
   ],
   "source": [
    "#WAP to search an element in a list [use for: else clause]\n",
    "\n",
    "list = [1, 2, 3, 4, 5, 6, 7, 8, 9, 10]\n",
    "\n",
    "element = int(input(\"Enter an element to search for: \"))\n",
    "\n",
    "for i in list:\n",
    "    if i == element:\n",
    "        print(f\"Element {element} on the index {list.index(element)} found in the list.\")\n",
    "        break\n",
    "else:\n",
    "    print(f\"Element {element} not found in the list.\")\n",
    "\n",
    "    "
   ]
  },
  {
   "cell_type": "code",
   "execution_count": 15,
   "metadata": {},
   "outputs": [
    {
     "name": "stdout",
     "output_type": "stream",
     "text": [
      "Six\n"
     ]
    }
   ],
   "source": [
    "#Write a program to take a single digit number from the key board and print its spelling in English word using if elif.\n",
    "\n",
    "num = int(input(\"Enter a single digit number: \"))\n",
    "\n",
    "if num == 0:\n",
    "    print(\"Zero\")\n",
    "elif num == 1:\n",
    "    print(\"One\")\n",
    "elif num == 2:\n",
    "    print(\"Two\")\n",
    "elif num == 3:\n",
    "    print(\"Three\")\n",
    "elif num == 4:\n",
    "    print(\"Four\")\n",
    "elif num == 5:\n",
    "    print(\"Five\")\n",
    "elif num == 6:\n",
    "    print(\"Six\")\n",
    "elif num == 7:\n",
    "    print(\"Seven\")\n",
    "elif num == 8:\n",
    "    print(\"Eight\")\n",
    "elif num == 9:\n",
    "    print(\"Nine\")\n",
    "else:\n",
    "    print(\"Invalid input\")\n",
    "\n"
   ]
  },
  {
   "cell_type": "code",
   "execution_count": 20,
   "metadata": {},
   "outputs": [
    {
     "name": "stdout",
     "output_type": "stream",
     "text": [
      "[3, 5, 7]\n"
     ]
    }
   ],
   "source": [
    "#WAP to input three numbers and arrange them in ascending numbers using for loop\n",
    "\n",
    "list = []\n",
    "for i in range(3):\n",
    "    num = int(input(\"Enter a number: \"))\n",
    "    list.append(num)\n",
    "\n",
    "print(sorted(list))"
   ]
  },
  {
   "cell_type": "code",
   "execution_count": null,
   "metadata": {},
   "outputs": [],
   "source": [
    "#Write a program to take a single digit number from the key board and print its spelling in English word using match case\n",
    "\n",
    "num = int(input(\"Enter a single digit number: \"))\n",
    "\n",
    "match num:\n",
    "    case 0:\n",
    "        print(\"Zero\")  \n",
    "    case 1:\n",
    "        print(\"One\")\n",
    "    case 2:\n",
    "        print(\"Two\")\n",
    "    case 3:\n",
    "        print(\"Three\")\n",
    "    case 4:\n",
    "        print(\"Four\")\n",
    "    case 5:\n",
    "        print(\"Five\")\n",
    "    case 6:\n",
    "        print(\"Six\")\n",
    "    case 7:\n",
    "        print(\"Seven\")\n",
    "    case 8:\n",
    "        print(\"Eight\")\n",
    "    case 9:\n",
    "        print(\"Nine\")\n",
    "    case _:\n",
    "        print(\"Invalid input\")  "
   ]
  },
  {
   "cell_type": "code",
   "execution_count": 21,
   "metadata": {},
   "outputs": [
    {
     "name": "stdout",
     "output_type": "stream",
     "text": [
      "0.6666666666666666\n"
     ]
    }
   ],
   "source": [
    "#WAP to read two numbers and arithmetic operator [+,-,*,/,%] perform the operation and display the computed result.\n",
    "\n",
    "num = int(input(\"Enter a number: \"))\n",
    "num2 = int(input(\"Enter another number: \"))\n",
    "operator = input(\"Enter an operator: \")\n",
    "\n",
    "if operator == '+':\n",
    "    print(num + num2)\n",
    "elif operator == '-':\n",
    "    print(num - num2)\n",
    "elif operator == '*':\n",
    "    print(num * num2)\n",
    "elif operator == '/':\n",
    "    print(num / num2)\n",
    "else:\n",
    "    print(\"Invalid operator\")"
   ]
  },
  {
   "cell_type": "code",
   "execution_count": null,
   "metadata": {},
   "outputs": [],
   "source": [
    "num = input(\"Enter a number: \")\n",
    "\n",
    "if num.isdigit():\n",
    "    print(\"The number is a digit.\")\n",
    "elif num.islower():\n",
    "    print(\"The number is a lowercase letter.\")\n",
    "elif num.isupper():\n",
    "    print(\"The number is an uppercase letter.\")\n",
    "else:\n",
    "    print(\"The number is a special character.\")"
   ]
  },
  {
   "cell_type": "code",
   "execution_count": 4,
   "metadata": {},
   "outputs": [
    {
     "name": "stdout",
     "output_type": "stream",
     "text": [
      "The secret number is less than your guess.\n",
      "The secret number is less than your guess.\n",
      "The secret number is less than your guess.\n",
      "You have used all your guesses.\n",
      "The secret number is 3\n"
     ]
    }
   ],
   "source": [
    "#Develop a number guessing game using loops and conditional statements. Askuser to guess a secret number. If user has not guessed correct number, provide him/her hint.\n",
    "import random\n",
    "secret_num = random.randint(1,10)\n",
    "\n",
    "for i in range(3):\n",
    "    guess = int(input(\"Enter a guess: \"))\n",
    "    if guess == secret_num:\n",
    "        print(\"You guessed the correct number.\")\n",
    "        break\n",
    "    elif guess > secret_num:\n",
    "        print(\"The secret number is less than your guess.\")\n",
    "    else:\n",
    "        print(\"The secret number is greater than your guess.\")\n",
    "else:\n",
    "    print(\"You have used all your guesses.\")\n",
    "    print(\"The secret number is\", secret_num)\n",
    "\n"
   ]
  },
  {
   "cell_type": "code",
   "execution_count": 6,
   "metadata": {},
   "outputs": [
    {
     "name": "stdout",
     "output_type": "stream",
     "text": [
      "Wrong username or password\n",
      "You have 4 attempts left.\n",
      "Wrong username or password\n",
      "You have 3 attempts left.\n",
      "Wrong username or password\n",
      "You have 2 attempts left.\n",
      "Wrong username or password\n",
      "You have 1 attempts left.\n",
      "Login Successful\n"
     ]
    }
   ],
   "source": [
    "\n",
    "for i in range(5):\n",
    "    name, password = str(input(\"Enter your name: \")), str(input(\"Enter your password: \"))\n",
    "\n",
    "    if name == \"stud\" and password == \"pass\":\n",
    "        print(\"Login Successful\")\n",
    "        break\n",
    "    else:\n",
    "        print(\"Wrong username or password\")\n",
    "        print(f\"You have {4-i} attempts left.\")\n",
    "else:\n",
    "    print(\"No guesses left\")\n"
   ]
  },
  {
   "cell_type": "code",
   "execution_count": 11,
   "metadata": {},
   "outputs": [
    {
     "name": "stdout",
     "output_type": "stream",
     "text": [
      "[15, 14, 13, 12, 11, 10, 9, 8, 7, 6, 5, 4, 3, 2, 1]\n"
     ]
    }
   ],
   "source": [
    "list = []\n",
    "for i in range(1,16):\n",
    "    list.append(i)\n",
    "\n",
    "print(list[::-1])\n",
    "\n",
    "\n",
    "\n",
    "\n",
    "\n"
   ]
  },
  {
   "cell_type": "code",
   "execution_count": 12,
   "metadata": {},
   "outputs": [
    {
     "name": "stdout",
     "output_type": "stream",
     "text": [
      "20045\n"
     ]
    }
   ],
   "source": [
    "#WAP to display sum of numbers from 11 to 200 using for loop.\n",
    "\n",
    "sum = 0\n",
    "for i in range(11,201):\n",
    "    sum += i\n",
    "\n",
    "print(sum)"
   ]
  },
  {
   "cell_type": "code",
   "execution_count": 13,
   "metadata": {},
   "outputs": [
    {
     "name": "stdout",
     "output_type": "stream",
     "text": [
      "10.0\n",
      "40.5\n"
     ]
    }
   ],
   "source": [
    "#WAP to display average of numbers from 5to 15 and 21 to 60.\n",
    "\n",
    "sum = 0\n",
    "for i in range(5,16):\n",
    "    sum += i\n",
    "\n",
    "print(sum/11)\n",
    "\n",
    "sum = 0\n",
    "for i in range(21,61):\n",
    "    sum += i\n",
    "\n",
    "print(sum/40)"
   ]
  },
  {
   "cell_type": "code",
   "execution_count": 18,
   "metadata": {},
   "outputs": [
    {
     "name": "stdout",
     "output_type": "stream",
     "text": [
      "5\n",
      "7\n",
      "9\n",
      "11\n",
      "13\n",
      "15\n",
      "17\n",
      "19\n",
      "21\n",
      "23\n",
      "25\n",
      "27\n",
      "29\n"
     ]
    }
   ],
   "source": [
    "for i in range(5,30):\n",
    "    if i % 2 == 0:\n",
    "        pass\n",
    "    else:\n",
    "        print(i)\n",
    "      "
   ]
  },
  {
   "cell_type": "code",
   "execution_count": 19,
   "metadata": {},
   "outputs": [
    {
     "name": "stdout",
     "output_type": "stream",
     "text": [
      "120\n"
     ]
    }
   ],
   "source": [
    "#WAP to find factorial of a number inputted by the user.\n",
    "\n",
    "num = int(input(\"Enter a number: \"))\n",
    "fac = 1\n",
    "for i in range(1, num+1):\n",
    "    fac *= i\n",
    "print(fac)"
   ]
  },
  {
   "cell_type": "code",
   "execution_count": 21,
   "metadata": {},
   "outputs": [
    {
     "name": "stdout",
     "output_type": "stream",
     "text": [
      "6\n"
     ]
    }
   ],
   "source": [
    "#WAP to find sum of digits of a integer number.\n",
    "\n",
    "num = int(input(\"Enter a number: \"))\n",
    "sum = 0\n",
    "for i in range(num):\n",
    "    sum += i\n",
    "print(sum)"
   ]
  },
  {
   "cell_type": "code",
   "execution_count": 24,
   "metadata": {},
   "outputs": [
    {
     "name": "stdout",
     "output_type": "stream",
     "text": [
      "440\n"
     ]
    }
   ],
   "source": [
    "sum = 0\n",
    "for i in range(30,51):\n",
    "    if i % 2 == 0:\n",
    "        sum += i\n",
    "    else:\n",
    "        pass\n",
    "print(sum)"
   ]
  },
  {
   "cell_type": "code",
   "execution_count": 23,
   "metadata": {},
   "outputs": [
    {
     "name": "stdout",
     "output_type": "stream",
     "text": [
      "6 x 1 = 6\n",
      "6 x 2 = 12\n",
      "6 x 3 = 18\n",
      "6 x 4 = 24\n",
      "6 x 5 = 30\n",
      "6 x 6 = 36\n",
      "6 x 7 = 42\n",
      "6 x 8 = 48\n",
      "6 x 9 = 54\n",
      "6 x 10 = 60\n"
     ]
    }
   ],
   "source": [
    "#WAP to print multiplication table.\n",
    "\n",
    "num = int(input(\"Enter a number: \"))\n",
    "for i in range(1,11):\n",
    "    print(f\"{num} x {i} = {num*i}\")"
   ]
  }
 ],
 "metadata": {
  "kernelspec": {
   "display_name": "Python 3",
   "language": "python",
   "name": "python3"
  },
  "language_info": {
   "codemirror_mode": {
    "name": "ipython",
    "version": 3
   },
   "file_extension": ".py",
   "mimetype": "text/x-python",
   "name": "python",
   "nbconvert_exporter": "python",
   "pygments_lexer": "ipython3",
   "version": "3.12.6"
  }
 },
 "nbformat": 4,
 "nbformat_minor": 2
}
