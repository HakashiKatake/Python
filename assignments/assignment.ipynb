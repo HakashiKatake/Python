{
 "cells": [
  {
   "cell_type": "code",
   "execution_count": 1,
   "metadata": {},
   "outputs": [],
   "source": [
    "#WAP to check whether a number is even or odd.\n",
    "\n",
    "num = int(input(\"Enter a number: \"))\n",
    "\n",
    "if num % 2 == 0:\n",
    "    print(\"The number is even.\")\n",
    "else:\n",
    "    print(\"The number is odd.\")\n"
   ]
  },
  {
   "cell_type": "code",
   "execution_count": null,
   "metadata": {},
   "outputs": [],
   "source": [
    "#WAP to check whether person is eligible for voting.\n",
    "\n",
    "num = int(input(\"Enter your age: \"))\n",
    "\n",
    "if num >= 18:\n",
    "    print(\"You are eligible for voting.\")\n",
    "else:\n",
    "    print(\"You are not eligible for voting.\")"
   ]
  },
  {
   "cell_type": "code",
   "execution_count": 2,
   "metadata": {},
   "outputs": [
    {
     "name": "stdout",
     "output_type": "stream",
     "text": [
      "Its Monday\n"
     ]
    }
   ],
   "source": [
    "#WAP to enter a number between 1 to 7 as days of a week and print the day accordingly. (Monday, Tuesday ...) using if elif case.\n",
    "\n",
    "num = int(input(\"Enter a number between 1 to 7:\"))\n",
    "\n",
    "if num == 1:\n",
    "    print(\"Its Monday\")\n",
    "elif num == 2:\n",
    "    print(\"Its Tuesday\")\n",
    "elif num == 3:\n",
    "    print(\"Its Wednesday\")  \n",
    "elif num == 4:\n",
    "    print(\"Its Thursday\")\n",
    "elif num == 5:\n",
    "    print(\"Its Friday\")\n",
    "elif num == 6:\n",
    "    print(\"Its Saturday\")\n",
    "elif num == 7:\n",
    "    print(\"Its Sunday\")\n",
    "else:\n",
    "    print(\"Put a number between 1 to 7\")"
   ]
  },
  {
   "cell_type": "code",
   "execution_count": 5,
   "metadata": {},
   "outputs": [
    {
     "name": "stdout",
     "output_type": "stream",
     "text": [
      "2024 is a leap year.\n"
     ]
    }
   ],
   "source": [
    "#WAP to check whether a year is a leap year or not. A year is a leap year if “anyone of ” the following conditions are satisfied \n",
    "year = int(input(\"Enter a year: \"))\n",
    "\n",
    "if (year % 4 == 0 and year % 100 != 0) or (year % 400 == 0):\n",
    "    print(f\"{year} is a leap year.\")\n",
    "else:\n",
    "    print(f\"{year} is not a leap year.\")\n"
   ]
  },
  {
   "cell_type": "code",
   "execution_count": 8,
   "metadata": {},
   "outputs": [
    {
     "name": "stdout",
     "output_type": "stream",
     "text": [
      "Grade: F\n"
     ]
    }
   ],
   "source": [
    "#WAP to calculate to take in the marks of 5 subjects, compute average and display the grade as per following rules:\n",
    "sub1 = int(input(\"Enter marks of subject 1: \"))\n",
    "sub2 = int(input(\"Enter marks of subject 2: \"))\n",
    "sub3 = int(input(\"Enter marks of subject 3: \"))\n",
    "sub4 = int(input(\"Enter marks of subject 4: \"))\n",
    "sub5 = int(input(\"Enter marks of subject 5: \"))\n",
    "\n",
    "average = (sub1 + sub2 + sub3 + sub4 + sub5) / 5\n",
    "\n",
    "if average >= 90:\n",
    "    print(\"Grade: A\")\n",
    "elif average >= 80:\n",
    "    print(\"Grade: B\")\n",
    "elif average >= 70:\n",
    "    print(\"Grade: C\")\n",
    "elif average >= 60:\n",
    "    print(\"Grade: D\")\n",
    "else:\n",
    "    print(\"Grade: F\")"
   ]
  },
  {
   "cell_type": "code",
   "execution_count": 11,
   "metadata": {},
   "outputs": [
    {
     "name": "stdout",
     "output_type": "stream",
     "text": [
      "The character is a vowel.\n"
     ]
    }
   ],
   "source": [
    "#WAP to input a character. Check whether the character is vowel or consonant.\n",
    "\n",
    "char = input(\"Enter a character: \")\n",
    "\n",
    "if char in 'aeiou' or 'AEIOU':\n",
    "    print(\"The character is a vowel.\")\n",
    "else:\n",
    "    print(\"The character is a consonant.\")"
   ]
  },
  {
   "cell_type": "code",
   "execution_count": 14,
   "metadata": {},
   "outputs": [
    {
     "name": "stdout",
     "output_type": "stream",
     "text": [
      "Element 5 on the position 4 found in the list.\n"
     ]
    }
   ],
   "source": [
    "#WAP to search an element in a list [use for: else clause]\n",
    "\n",
    "list = [1, 2, 3, 4, 5, 6, 7, 8, 9, 10]\n",
    "\n",
    "element = int(input(\"Enter an element to search for: \"))\n",
    "\n",
    "for i in list:\n",
    "    if i == element:\n",
    "        print(f\"Element {element} on the index {list.index(element)} found in the list.\")\n",
    "        break\n",
    "else:\n",
    "    print(f\"Element {element} not found in the list.\")\n",
    "\n",
    "    "
   ]
  },
  {
   "cell_type": "code",
   "execution_count": 15,
   "metadata": {},
   "outputs": [
    {
     "name": "stdout",
     "output_type": "stream",
     "text": [
      "Six\n"
     ]
    }
   ],
   "source": [
    "#Write a program to take a single digit number from the key board and print its spelling in English word using if elif.\n",
    "\n",
    "num = int(input(\"Enter a single digit number: \"))\n",
    "\n",
    "if num == 0:\n",
    "    print(\"Zero\")\n",
    "elif num == 1:\n",
    "    print(\"One\")\n",
    "elif num == 2:\n",
    "    print(\"Two\")\n",
    "elif num == 3:\n",
    "    print(\"Three\")\n",
    "elif num == 4:\n",
    "    print(\"Four\")\n",
    "elif num == 5:\n",
    "    print(\"Five\")\n",
    "elif num == 6:\n",
    "    print(\"Six\")\n",
    "elif num == 7:\n",
    "    print(\"Seven\")\n",
    "elif num == 8:\n",
    "    print(\"Eight\")\n",
    "elif num == 9:\n",
    "    print(\"Nine\")\n",
    "else:\n",
    "    print(\"Invalid input\")\n",
    "\n"
   ]
  },
  {
   "cell_type": "code",
   "execution_count": 20,
   "metadata": {},
   "outputs": [
    {
     "name": "stdout",
     "output_type": "stream",
     "text": [
      "[3, 5, 7]\n"
     ]
    }
   ],
   "source": [
    "#WAP to input three numbers and arrange them in ascending numbers using for loop\n",
    "\n",
    "list = []\n",
    "for i in range(3):\n",
    "    num = int(input(\"Enter a number: \"))\n",
    "    list.append(num)\n",
    "\n",
    "print(sorted(list))"
   ]
  },
  {
   "cell_type": "code",
   "execution_count": null,
   "metadata": {},
   "outputs": [],
   "source": [
    "#Write a program to take a single digit number from the key board and print its spelling in English word using match case\n",
    "\n",
    "num = int(input(\"Enter a single digit number: \"))\n",
    "\n",
    "match num:\n",
    "    case 0:\n",
    "        print(\"Zero\")  \n",
    "    case 1:\n",
    "        print(\"One\")\n",
    "    case 2:\n",
    "        print(\"Two\")\n",
    "    case 3:\n",
    "        print(\"Three\")\n",
    "    case 4:\n",
    "        print(\"Four\")\n",
    "    case 5:\n",
    "        print(\"Five\")\n",
    "    case 6:\n",
    "        print(\"Six\")\n",
    "    case 7:\n",
    "        print(\"Seven\")\n",
    "    case 8:\n",
    "        print(\"Eight\")\n",
    "    case 9:\n",
    "        print(\"Nine\")\n",
    "    case _:\n",
    "        print(\"Invalid input\")  "
   ]
  },
  {
   "cell_type": "code",
   "execution_count": 21,
   "metadata": {},
   "outputs": [
    {
     "name": "stdout",
     "output_type": "stream",
     "text": [
      "0.6666666666666666\n"
     ]
    }
   ],
   "source": [
    "#WAP to read two numbers and arithmetic operator [+,-,*,/,%] perform the operation and display the computed result.\n",
    "\n",
    "num = int(input(\"Enter a number: \"))\n",
    "num2 = int(input(\"Enter another number: \"))\n",
    "operator = input(\"Enter an operator: \")\n",
    "\n",
    "if operator == '+':\n",
    "    print(num + num2)\n",
    "elif operator == '-':\n",
    "    print(num - num2)\n",
    "elif operator == '*':\n",
    "    print(num * num2)\n",
    "elif operator == '/':\n",
    "    print(num / num2)\n",
    "else:\n",
    "    print(\"Invalid operator\")"
   ]
  },
  {
   "cell_type": "code",
   "execution_count": null,
   "metadata": {},
   "outputs": [],
   "source": [
    "num = input(\"Enter a number: \")\n",
    "\n",
    "if num.isdigit():\n",
    "    print(\"The number is a digit.\")\n",
    "elif num.islower():\n",
    "    print(\"The number is a lowercase letter.\")\n",
    "elif num.isupper():\n",
    "    print(\"The number is an uppercase letter.\")\n",
    "else:\n",
    "    print(\"The number is a special character.\")"
   ]
  },
  {
   "cell_type": "code",
   "execution_count": null,
   "metadata": {},
   "outputs": [],
   "source": []
  }
 ],
 "metadata": {
  "kernelspec": {
   "display_name": "Python 3",
   "language": "python",
   "name": "python3"
  },
  "language_info": {
   "codemirror_mode": {
    "name": "ipython",
    "version": 3
   },
   "file_extension": ".py",
   "mimetype": "text/x-python",
   "name": "python",
   "nbconvert_exporter": "python",
   "pygments_lexer": "ipython3",
   "version": "3.12.6"
  }
 },
 "nbformat": 4,
 "nbformat_minor": 2
}
