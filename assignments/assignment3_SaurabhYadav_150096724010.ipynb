{
 "cells": [
  {
   "cell_type": "code",
   "execution_count": 1,
   "metadata": {},
   "outputs": [
    {
     "name": "stdout",
     "output_type": "stream",
     "text": [
      "Name:  Saurabh\n",
      "Age:  20\n",
      "Roll No:  20045\n",
      "Stream:  CSE\n"
     ]
    }
   ],
   "source": [
    "#Create a person class with:\n",
    "#i) two instance variable: name, age.\n",
    "#ii) Create a parameterized constructor\n",
    "#Create a student class. Inherit person class in Student class.\n",
    "#Student class have:\n",
    "#i) instance variable: rollno and stream.\n",
    "#ii) Create a parameterized constructor to initialize all instance variables of\n",
    "#student class as well as Person class\n",
    "#iii)Instance method: display() to print name, age, rollno and stream\n",
    "#Create an object of Student class and call display method\n",
    "\n",
    "class Person:\n",
    "    def __init__(self,name,age):\n",
    "        self.name = name\n",
    "        self.age = age\n",
    "\n",
    "    def display(self):\n",
    "        print(\"Name: \",self.name)\n",
    "        print(\"Age: \",self.age)\n",
    "\n",
    "class Student(Person):\n",
    "    def __init__(self,name,age,rollno,stream):\n",
    "        super().__init__(name,age)\n",
    "        self.rollno = rollno\n",
    "        self.stream = stream\n",
    "\n",
    "    def display(self):\n",
    "        super().display()\n",
    "        print(\"Roll No: \",self.rollno)\n",
    "        print(\"Stream: \",self.stream)\n",
    "\n",
    "s = Student(\"Saurabh\",20,20045,\"CSE\")\n",
    "s.display()\n",
    "\n"
   ]
  },
  {
   "cell_type": "code",
   "execution_count": 2,
   "metadata": {},
   "outputs": [
    {
     "name": "stdout",
     "output_type": "stream",
     "text": [
      "Area of circle:  78.5\n",
      "Perimeter of circle:  31.400000000000002\n"
     ]
    }
   ],
   "source": [
    "#Write a Python class named Circle. Declare an instance variable, radius and two methods that will compute the area and the perimeter of a circle.\n",
    "\n",
    "\n",
    "class Circle:\n",
    "    def __init__(self,radius):\n",
    "        self.radius = radius\n",
    "\n",
    "    def area(self):\n",
    "        return 3.14*(self.radius**2)\n",
    "\n",
    "    def perimeter(self):\n",
    "        return 2*3.14*self.radius\n",
    "    \n",
    "\n",
    "c = Circle(5)\n",
    "print(\"Area of circle: \",c.area())\n",
    "print(\"Perimeter of circle: \",c.perimeter())"
   ]
  },
  {
   "cell_type": "code",
   "execution_count": 3,
   "metadata": {},
   "outputs": [
    {
     "name": "stdout",
     "output_type": "stream",
     "text": [
      "Addition:  15\n",
      "Subtraction:  5\n",
      "Multiplication:  50\n",
      "Division:  2.0\n"
     ]
    }
   ],
   "source": [
    "#Write a Python program to create a calculator class. Include methods for basic arithmetic operations.\n",
    "\n",
    "class Calculator:\n",
    "    def __init__(self,num1,num2):\n",
    "        self.num1 = num1\n",
    "        self.num2 = num2\n",
    "\n",
    "    def add(self):\n",
    "        return self.num1 + self.num2\n",
    "\n",
    "    def subtract(self):\n",
    "        return self.num1 - self.num2\n",
    "\n",
    "    def multiply(self):\n",
    "        return self.num1 * self.num2\n",
    "\n",
    "    def divide(self):\n",
    "        return self.num1 / self.num2\n",
    "    \n",
    "\n",
    "c = Calculator(10,5)\n",
    "print(\"Addition: \",c.add())\n",
    "print(\"Subtraction: \",c.subtract())\n",
    "print(\"Multiplication: \",c.multiply())\n",
    "print(\"Division: \",c.divide())"
   ]
  },
  {
   "cell_type": "code",
   "execution_count": 6,
   "metadata": {},
   "outputs": [
    {
     "name": "stdout",
     "output_type": "stream",
     "text": [
      "Total price:  100\n"
     ]
    }
   ],
   "source": [
    "#Write a Python program to create a class representing a shopping cart. Include methods for adding and removing items, and calculating the total price.\n",
    "\n",
    "class Cart:\n",
    "    def __init__(self):\n",
    "        self.items = []\n",
    "\n",
    "    def add_item(self, item):\n",
    "        self.items.append(item)\n",
    "\n",
    "    def remove_item(self, item):\n",
    "        self.items.remove(item)\n",
    "\n",
    "    def calculate_total(self):\n",
    "        total = 0\n",
    "        for item in self.items:\n",
    "            total += item.price\n",
    "        return total\n",
    "\n",
    "class Item:\n",
    "    def __init__(self, name, price):\n",
    "        self.name = name\n",
    "        self.price = price\n",
    "\n",
    "cart = Cart()\n",
    "cart.add_item(Item(\"Shirt\", 20))\n",
    "cart.add_item(Item(\"Pants\", 30))\n",
    "cart.add_item(Item(\"Shoes\", 50))\n",
    "\n",
    "total_price = cart.calculate_total()\n",
    "print(\"Total price: \",total_price)"
   ]
  },
  {
   "cell_type": "code",
   "execution_count": 9,
   "metadata": {},
   "outputs": [
    {
     "name": "stdout",
     "output_type": "stream",
     "text": [
      "Name:  SMITH\n",
      "ID:  E7698\n",
      "Salary:  55000\n",
      "Name:  SMITH\n",
      "ID:  E7698\n",
      "Salary:  55000\n",
      "Name:  SMITH\n",
      "ID:  E7698\n",
      "Salary:  55000\n",
      "Name:  SMITH\n",
      "ID:  E7698\n",
      "Salary:  55000\n"
     ]
    }
   ],
   "source": [
    "#Write a Python class Employee with attributes like emp_id, emp_name,\n",
    "#emp_salary, and emp_department and methods like calculate_emp_salary,\n",
    "#emp_assign_department, and print_employee_details.\n",
    "#Sample Employee Data:\n",
    "#\"ADAMS\", \"E7876\", 50000, \"ACCOUNTING\"\n",
    "#\"JONES\", \"E7499\", 45000, \"RESEARCH\"\n",
    "#\"MARTIN\", \"E7900\", 50000, \"SALES\"\n",
    "#\"SMITH\", \"E7698\", 55000, \"OPERATIONS\"\n",
    "\n",
    "#Use 'assign_department' method to change the department of an employee.\n",
    "#• Use 'print_employee_details' method to print the details of an employee.\n",
    "#• Use 'calculate_emp_salary' method takes two arguments: salary and hours_worked, which is the number of hours worked by the employee.\n",
    "#If the number of hours worked is more than 50, the method computes overtime and adds it to the salary. Overtime is calculated as following\n",
    "#formula:\n",
    "#• overtime = hours_worked - 50\n",
    "#Overtime amount = (overtime * (salary / 50))\n",
    "\n",
    "class Employee:\n",
    "    "
   ]
  }
 ],
 "metadata": {
  "kernelspec": {
   "display_name": "Python 3",
   "language": "python",
   "name": "python3"
  },
  "language_info": {
   "codemirror_mode": {
    "name": "ipython",
    "version": 3
   },
   "file_extension": ".py",
   "mimetype": "text/x-python",
   "name": "python",
   "nbconvert_exporter": "python",
   "pygments_lexer": "ipython3",
   "version": "3.12.6"
  }
 },
 "nbformat": 4,
 "nbformat_minor": 2
}
