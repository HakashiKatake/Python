{
 "cells": [
  {
   "cell_type": "code",
   "execution_count": 1,
   "metadata": {},
   "outputs": [
    {
     "name": "stdout",
     "output_type": "stream",
     "text": [
      "Name:  Saurabh\n",
      "Age:  20\n",
      "Roll No:  20045\n",
      "Stream:  CSE\n"
     ]
    }
   ],
   "source": [
    "#Create a person class with:\n",
    "#i) two instance variable: name, age.\n",
    "#ii) Create a parameterized constructor\n",
    "#Create a student class. Inherit person class in Student class.\n",
    "#Student class have:\n",
    "#i) instance variable: rollno and stream.\n",
    "#ii) Create a parameterized constructor to initialize all instance variables of\n",
    "#student class as well as Person class\n",
    "#iii)Instance method: display() to print name, age, rollno and stream\n",
    "#Create an object of Student class and call display method\n",
    "\n",
    "class Person:\n",
    "    def __init__(self,name,age):\n",
    "        self.name = name\n",
    "        self.age = age\n",
    "\n",
    "    def display(self):\n",
    "        print(\"Name: \",self.name)\n",
    "        print(\"Age: \",self.age)\n",
    "\n",
    "class Student(Person):\n",
    "    def __init__(self,name,age,rollno,stream):\n",
    "        super().__init__(name,age)\n",
    "        self.rollno = rollno\n",
    "        self.stream = stream\n",
    "\n",
    "    def display(self):\n",
    "        super().display()\n",
    "        print(\"Roll No: \",self.rollno)\n",
    "        print(\"Stream: \",self.stream)\n",
    "\n",
    "s = Student(\"Saurabh\",20,20045,\"CSE\")\n",
    "s.display()\n",
    "\n"
   ]
  },
  {
   "cell_type": "code",
   "execution_count": 2,
   "metadata": {},
   "outputs": [
    {
     "name": "stdout",
     "output_type": "stream",
     "text": [
      "Area of circle:  78.5\n",
      "Perimeter of circle:  31.400000000000002\n"
     ]
    }
   ],
   "source": [
    "#Write a Python class named Circle. Declare an instance variable, radius and two methods that will compute the area and the perimeter of a circle.\n",
    "\n",
    "\n",
    "class Circle:\n",
    "    def __init__(self,radius):\n",
    "        self.radius = radius\n",
    "\n",
    "    def area(self):\n",
    "        return 3.14*(self.radius**2)\n",
    "\n",
    "    def perimeter(self):\n",
    "        return 2*3.14*self.radius\n",
    "    \n",
    "\n",
    "c = Circle(5)\n",
    "print(\"Area of circle: \",c.area())\n",
    "print(\"Perimeter of circle: \",c.perimeter())"
   ]
  },
  {
   "cell_type": "code",
   "execution_count": 3,
   "metadata": {},
   "outputs": [
    {
     "name": "stdout",
     "output_type": "stream",
     "text": [
      "Addition:  15\n",
      "Subtraction:  5\n",
      "Multiplication:  50\n",
      "Division:  2.0\n"
     ]
    }
   ],
   "source": [
    "#Write a Python program to create a calculator class. Include methods for basic arithmetic operations.\n",
    "\n",
    "class Calculator:\n",
    "    def __init__(self,num1,num2):\n",
    "        self.num1 = num1\n",
    "        self.num2 = num2\n",
    "\n",
    "    def add(self):\n",
    "        return self.num1 + self.num2\n",
    "\n",
    "    def subtract(self):\n",
    "        return self.num1 - self.num2\n",
    "\n",
    "    def multiply(self):\n",
    "        return self.num1 * self.num2\n",
    "\n",
    "    def divide(self):\n",
    "        return self.num1 / self.num2\n",
    "    \n",
    "\n",
    "c = Calculator(10,5)\n",
    "print(\"Addition: \",c.add())\n",
    "print(\"Subtraction: \",c.subtract())\n",
    "print(\"Multiplication: \",c.multiply())\n",
    "print(\"Division: \",c.divide())"
   ]
  },
  {
   "cell_type": "code",
   "execution_count": 6,
   "metadata": {},
   "outputs": [
    {
     "name": "stdout",
     "output_type": "stream",
     "text": [
      "Total price:  100\n"
     ]
    }
   ],
   "source": [
    "#Write a Python program to create a class representing a shopping cart. Include methods for adding and removing items, and calculating the total price.\n",
    "\n",
    "class Cart:\n",
    "    def __init__(self):\n",
    "        self.items = []\n",
    "\n",
    "    def add_item(self, item):\n",
    "        self.items.append(item)\n",
    "\n",
    "    def remove_item(self, item):\n",
    "        self.items.remove(item)\n",
    "\n",
    "    def calculate_total(self):\n",
    "        total = 0\n",
    "        for item in self.items:\n",
    "            total += item.price\n",
    "        return total\n",
    "\n",
    "class Item:\n",
    "    def __init__(self, name, price):\n",
    "        self.name = name\n",
    "        self.price = price\n",
    "\n",
    "cart = Cart()\n",
    "cart.add_item(Item(\"Shirt\", 20))\n",
    "cart.add_item(Item(\"Pants\", 30))\n",
    "cart.add_item(Item(\"Shoes\", 50))\n",
    "\n",
    "total_price = cart.calculate_total()\n",
    "print(\"Total price: \",total_price)"
   ]
  },
  {
   "cell_type": "code",
   "execution_count": 2,
   "metadata": {},
   "outputs": [
    {
     "name": "stdout",
     "output_type": "stream",
     "text": [
      "Name: ADAMS, ID: E7876, Salary: 50000, Department: FINANCE\n",
      "Salary with overtime:  60000.0\n",
      "Name: JONES, ID: E7499, Salary: 45000, Department: SALES\n",
      "Salary with overtime:  54000.0\n",
      "Name: MARTIN, ID: E7900, Salary: 50000, Department: RESEARCH\n",
      "Salary with overtime:  60000.0\n",
      "Name: SMITH, ID: E7698, Salary: 55000, Department: OPERATIONS\n",
      "Salary with overtime:  66000.0\n"
     ]
    }
   ],
   "source": [
    "\n",
    "class Employee:\n",
    "    def __init__(self, emp_name, emp_id, emp_salary, emp_department):\n",
    "        self.emp_name = emp_name\n",
    "        self.emp_id = emp_id\n",
    "        self.emp_salary = emp_salary\n",
    "        self.emp_department = emp_department\n",
    "\n",
    "    def calculate_emp_salary(self, hours_worked):  \n",
    "        if hours_worked > 50:\n",
    "            overtime = hours_worked - 50\n",
    "            overtime_amount = overtime * (self.emp_salary / 50)\n",
    "            return self.emp_salary + overtime_amount\n",
    "        return self.emp_salary\n",
    "\n",
    "    def emp_assign_department(self, new_department): \n",
    "        self.emp_department = new_department\n",
    "\n",
    "    def print_employee_details(self):  \n",
    "        print(f\"Name: {self.emp_name}, ID: {self.emp_id}, Salary: {self.emp_salary}, Department: {self.emp_department}\")\n",
    "\n",
    "\n",
    "emp1 = Employee(\"ADAMS\", \"E7876\", 50000, \"ACCOUNTING\")\n",
    "emp2 = Employee(\"JONES\", \"E7499\", 45000, \"RESEARCH\")\n",
    "emp3 = Employee(\"MARTIN\", \"E7900\", 50000, \"SALES\")\n",
    "emp4 = Employee(\"SMITH\", \"E7698\", 55000, \"OPERATIONS\")\n",
    "\n",
    "\n",
    "emp1.emp_assign_department(\"FINANCE\")  \n",
    "emp1.print_employee_details() \n",
    "salary_with_overtime = emp1.calculate_emp_salary(60) \n",
    "print(\"Salary with overtime: \", salary_with_overtime)  \n",
    "emp2.emp_assign_department(\"SALES\")\n",
    "emp2.print_employee_details()\n",
    "salary_with_overtime = emp2.calculate_emp_salary(60)\n",
    "print(\"Salary with overtime: \", salary_with_overtime)\n",
    "emp3.emp_assign_department(\"RESEARCH\")\n",
    "emp3.print_employee_details()\n",
    "salary_with_overtime = emp3.calculate_emp_salary(60)\n",
    "print(\"Salary with overtime: \", salary_with_overtime)\n",
    "emp4.emp_assign_department(\"OPERATIONS\")\n",
    "emp4.print_employee_details()\n",
    "salary_with_overtime = emp4.calculate_emp_salary(60)\n",
    "print(\"Salary with overtime: \", salary_with_overtime)\n",
    "\n",
    "\n",
    "\n",
    "    "
   ]
  },
  {
   "cell_type": "code",
   "execution_count": 3,
   "metadata": {},
   "outputs": [
    {
     "name": "stdout",
     "output_type": "stream",
     "text": [
      "Balance:  1300\n"
     ]
    }
   ],
   "source": [
    "#Write a Python class BankAccount with attributes like account_number, balance, date_of_opening and customer_name, and methods like deposit, withdraw, and check_balance.\n",
    "\n",
    "\n",
    "class BankAccount:\n",
    "    def __init__(self, account_number, balance, date_of_opening, customer_name):\n",
    "        self.account_number = account_number\n",
    "        self.balance = balance\n",
    "        self.date_of_opening = date_of_opening\n",
    "        self.customer_name = customer_name\n",
    "\n",
    "    def deposit(self, amount):\n",
    "        self.balance += amount\n",
    "\n",
    "    def withdraw(self, amount):\n",
    "        if amount > self.balance:\n",
    "            print(\"Insufficient balance\")\n",
    "        else:\n",
    "            self.balance -= amount\n",
    "\n",
    "    def check_balance(self):\n",
    "        print(\"Balance: \", self.balance)\n",
    "\n",
    "\n",
    "account = BankAccount(\"123456\", 1000, \"2023-01-01\", \"John Doe\")\n",
    "account.deposit(500)\n",
    "account.withdraw(200)\n",
    "account.check_balance()"
   ]
  },
  {
   "cell_type": "code",
   "execution_count": 4,
   "metadata": {},
   "outputs": [
    {
     "name": "stdout",
     "output_type": "stream",
     "text": [
      "Circle Area: 78.5\n",
      "Rectangle Area: 24\n",
      "Square Area: 16\n",
      "Parallelogram Area: 15\n",
      "Triangle Area: 10.0\n"
     ]
    }
   ],
   "source": [
    "#Create a class hierarchy for different types of geometric shapes, including\n",
    "#circles, rectangles, and triangles, using inheritance.\n",
    "#Tasks:\n",
    "#A. Define a base class called Shape with common attributes\n",
    "#like colour and area.\n",
    "#B. Implement subclasses for specific shape types such\n",
    "#as Circle, Rectangle, and Triangle. Each subclass should inherit\n",
    "#from the Shape class.\n",
    "#C. Incorporate additional attributes and methods specific to each\n",
    "#shape type. For example, a Circle class might have attributes\n",
    "#like radius and methods like calculate_area.\n",
    "#D. Use inheritance to create subclasses representing variations within\n",
    "#each shape type. For example, within the Rectangle class, create\n",
    "#subclasses for Square and Parallelogram.\n",
    "#E. Implement methods or attributes in the subclasses to demonstrate\n",
    "#how inheritance allows for the sharing of attributes and methods\n",
    "#from parent classes.\n",
    "#F. Create instances of the various shape classes and test their\n",
    "#functionality to ensure that attributes and methods work as\n",
    "#expected.\n",
    "\n",
    "\n",
    "class Shape:  # Base class\n",
    "    def __init__(self, color):\n",
    "        self.color = color\n",
    "\n",
    "    def area(self):  \n",
    "        pass\n",
    "\n",
    "class Circle(Shape):  \n",
    "    def __init__(self, radius, color):\n",
    "        super().__init__(color)\n",
    "        self.radius = radius\n",
    "\n",
    "    def area(self):  \n",
    "        return 3.14 * (self.radius ** 2)\n",
    "\n",
    "class Rectangle(Shape): \n",
    "    def __init__(self, width, height, color):\n",
    "        super().__init__(color)\n",
    "        self.width = width\n",
    "        self.height = height\n",
    "\n",
    "    def area(self): \n",
    "        return self.width * self.height\n",
    "\n",
    "class Square(Rectangle): \n",
    "    def __init__(self, side, color):\n",
    "        super().__init__(side, side, color) \n",
    "\n",
    "class Parallelogram(Rectangle):  \n",
    "    def __init__(self, base, height, color):\n",
    "        super().__init__(base, height, color)\n",
    "\n",
    "class Triangle(Shape):  \n",
    "    def __init__(self, base, height, color):\n",
    "        super().__init__(color)\n",
    "        self.base = base\n",
    "        self.height = height\n",
    "\n",
    "    def area(self): \n",
    "        return 0.5 * self.base * self.height\n",
    "\n",
    "\n",
    "circle = Circle(5, \"red\")\n",
    "rectangle = Rectangle(4, 6, \"blue\")\n",
    "square = Square(4, \"green\")\n",
    "parallelogram = Parallelogram(5, 3, \"yellow\")\n",
    "triangle = Triangle(4, 5, \"purple\")\n",
    "\n",
    "print(\"Circle Area:\", circle.area())  # ... existing code ...\n",
    "print(\"Rectangle Area:\", rectangle.area())  # ... existing code ...\n",
    "print(\"Square Area:\", square.area())  # ... existing code ...\n",
    "print(\"Parallelogram Area:\", parallelogram.area())  # ... existing code ...\n",
    "print(\"Triangle Area:\", triangle.area())  # ... existing code ..."
   ]
  },
  {
   "cell_type": "code",
   "execution_count": 19,
   "metadata": {},
   "outputs": [
    {
     "name": "stdout",
     "output_type": "stream",
     "text": [
      "Number of words:  2\n"
     ]
    }
   ],
   "source": [
    "#WAP to find the number of words in the given text file\n",
    "#Hints:\n",
    "#Use the split() method to separate words.\n",
    "\n",
    "\n",
    "with open(\"text.txt\", \"r\") as file:\n",
    "    text = file.read()\n",
    "words = text.split()\n",
    "print(\"Number of words: \", len(words))"
   ]
  },
  {
   "cell_type": "code",
   "execution_count": 20,
   "metadata": {},
   "outputs": [
    {
     "name": "stdout",
     "output_type": "stream",
     "text": [
      "Hello Programming\n"
     ]
    }
   ],
   "source": [
    "#Write a program to write “Happy Programming” in a text file and read it\n",
    "\n",
    "with open(\"text.txt\", \"w\") as file:\n",
    "    text = file.write(\"Hello Programming\")\n",
    "\n",
    "with open(\"text.txt\", \"r\") as file:\n",
    "    text = file.read()\n",
    "print(text)\n",
    "    \n",
    "\n",
    "    \n"
   ]
  },
  {
   "cell_type": "code",
   "execution_count": 17,
   "metadata": {},
   "outputs": [
    {
     "name": "stdout",
     "output_type": "stream",
     "text": [
      "Hello Programming\n",
      "Hello\n",
      "Hello Programming\n",
      "['Hello Programming']\n"
     ]
    }
   ],
   "source": [
    "#.WAP to demonstrate the working of the following functions:\n",
    "#i) read()\n",
    "#ii) read(n)\n",
    "#iii)readline()\n",
    "#iv) readlines()\n",
    "\n",
    "\n",
    "with open(\"text.txt\", \"r\") as file:\n",
    "    text = file.read()\n",
    "\n",
    "print(text)\n",
    "\n",
    "\n",
    "with open(\"text.txt\", \"r\") as file:\n",
    "    text = file.read(5)\n",
    "\n",
    "print(text)\n",
    "\n",
    "\n",
    "with open(\"text.txt\", \"r\") as file:\n",
    "    text = file.readline()\n",
    "\n",
    "print(text)\n",
    "\n",
    "\n",
    "with open(\"text.txt\", \"r\") as file:\n",
    "    text = file.readlines()\n",
    "\n",
    "print(text)\n",
    "\n"
   ]
  },
  {
   "cell_type": "code",
   "execution_count": 21,
   "metadata": {},
   "outputs": [
    {
     "name": "stdout",
     "output_type": "stream",
     "text": [
      "Hello ProgrammingHappy Programming\n"
     ]
    }
   ],
   "source": [
    "#WAP that exhibits the working of the following functions: \n",
    "#i. write() \n",
    "#ii. writelines() \n",
    "\n",
    "\n",
    "with open(\"text.txt\", \"w\") as file:\n",
    "    text = file.write(\"Hello Programming\")\n",
    "\n",
    "with open(\"text.txt\", \"a\") as file:\n",
    "    text = file.write(\"Happy Programming\")\n",
    "\n",
    "with open(\"text.txt\", \"r\") as file:\n",
    "    text = file.read()\n",
    "print(text)\n"
   ]
  },
  {
   "cell_type": "code",
   "execution_count": 22,
   "metadata": {},
   "outputs": [
    {
     "name": "stdout",
     "output_type": "stream",
     "text": [
      "['Hello ProgrammingHappy Programming']\n"
     ]
    }
   ],
   "source": [
    "#Write a Python program to read first n lines of a file. \n",
    "\n",
    "with open(\"text.txt\", \"r\") as file:\n",
    "    text = file.readlines()\n",
    "\n",
    "print(text)"
   ]
  },
  {
   "cell_type": "code",
   "execution_count": 23,
   "metadata": {},
   "outputs": [
    {
     "name": "stdout",
     "output_type": "stream",
     "text": [
      "Hello ProgrammingHappy ProgrammingHappy Programming\n"
     ]
    }
   ],
   "source": [
    "#Write a Python program to append text to a file and display the text. \n",
    "\n",
    "with open(\"text.txt\", \"a\") as file:\n",
    "    text = file.write(\"Happy Programming\")\n",
    "\n",
    "with open(\"text.txt\", \"r\") as file:\n",
    "    text = file.read()\n",
    "print(text)"
   ]
  },
  {
   "cell_type": "code",
   "execution_count": 24,
   "metadata": {},
   "outputs": [
    {
     "name": "stdout",
     "output_type": "stream",
     "text": [
      "['Hello ProgrammingHappy ProgrammingHappy Programming']\n"
     ]
    }
   ],
   "source": [
    "#Write a Python program to read last n lines of a file. \n",
    "\n",
    "with open(\"text.txt\", \"r\") as file:\n",
    "    text = file.readlines()\n",
    "\n",
    "print(text)"
   ]
  },
  {
   "cell_type": "code",
   "execution_count": 25,
   "metadata": {},
   "outputs": [
    {
     "name": "stdout",
     "output_type": "stream",
     "text": [
      "['Hello ProgrammingHappy ProgrammingHappy Programming']\n"
     ]
    }
   ],
   "source": [
    "#Write a Python program to read a file line by line and store it into a list. \n",
    "\n",
    "with open(\"text.txt\", \"r\") as file:\n",
    "    text = file.readlines()\n",
    "\n",
    "print(text)"
   ]
  },
  {
   "cell_type": "code",
   "execution_count": 26,
   "metadata": {},
   "outputs": [
    {
     "name": "stdout",
     "output_type": "stream",
     "text": [
      "Division by zero is not allowed\n",
      "Execution completed\n"
     ]
    }
   ],
   "source": [
    "#Write a program to exhibit these concepts: \n",
    "#i. try \n",
    "#ii. except \n",
    "#iii. finally \n",
    "\n",
    "\n",
    "try:\n",
    "    result = 10 / 0\n",
    "except ZeroDivisionError:\n",
    "    print(\"Division by zero is not allowed\")\n",
    "finally:\n",
    "    print(\"Execution completed\")\n",
    "    \n"
   ]
  },
  {
   "cell_type": "code",
   "execution_count": 27,
   "metadata": {},
   "outputs": [
    {
     "name": "stdout",
     "output_type": "stream",
     "text": [
      "Division by zero is not allowed\n",
      "Execution completed\n"
     ]
    }
   ],
   "source": [
    "#Write a Python program to handle a ZeroDivisionError exception when  dividing a number by zero. \n",
    "\n",
    "try:\n",
    "    result = 10 / 0\n",
    "except ZeroDivisionError:\n",
    "    print(\"Division by zero is not allowed\")\n",
    "finally:\n",
    "    print(\"Execution completed\")"
   ]
  },
  {
   "cell_type": "code",
   "execution_count": 28,
   "metadata": {},
   "outputs": [
    {
     "name": "stdout",
     "output_type": "stream",
     "text": [
      "Invalid input. Please enter an integer.\n"
     ]
    }
   ],
   "source": [
    "#Write a Python program that prompts the user to input an integer and raises a  ValueError exception if the input is not a valid integer. \n",
    "\n",
    "\n",
    "try:\n",
    "    num = int(input(\"Enter an integer: \"))\n",
    "except ValueError:\n",
    "    print(\"Invalid input. Please enter an integer.\")"
   ]
  },
  {
   "cell_type": "code",
   "execution_count": 30,
   "metadata": {},
   "outputs": [
    {
     "name": "stdout",
     "output_type": "stream",
     "text": [
      "Invalid input. Please enter an integer.\n"
     ]
    }
   ],
   "source": [
    "#WAP that exhibits multiple except blocks along with default block\n",
    "\n",
    "\n",
    "try:\n",
    "    num = int(input(\"Enter an integer: \"))\n",
    "except ValueError:\n",
    "    print(\"Invalid input. Please enter an integer.\")\n",
    "except ZeroDivisionError:\n",
    "    print(\"Cannot divide by zero.\")"
   ]
  },
  {
   "cell_type": "code",
   "execution_count": 31,
   "metadata": {},
   "outputs": [
    {
     "name": "stdout",
     "output_type": "stream",
     "text": [
      "Invalid input. Please enter an integer.\n"
     ]
    }
   ],
   "source": [
    "#WAP that exhibits except blocks that can catch multiple exceptions. \n",
    "\n",
    "try:\n",
    "    num = int(input(\"Enter an integer: \"))\n",
    "except (ValueError, ZeroDivisionError):\n",
    "    print(\"Invalid input. Please enter an integer.\")\n",
    "except Exception as e:\n",
    "    print(\"An error occurred: \", e)"
   ]
  },
  {
   "cell_type": "code",
   "execution_count": 32,
   "metadata": {},
   "outputs": [
    {
     "name": "stdout",
     "output_type": "stream",
     "text": [
      "[1, 4, 9, 16, 25]\n"
     ]
    }
   ],
   "source": [
    "#WAP to demonstrate how to use lambda in map() function. \n",
    "\n",
    "numbers = [1, 2, 3, 4, 5]\n",
    "squared = list(map(lambda x: x**2, numbers))\n",
    "print(squared)"
   ]
  },
  {
   "cell_type": "code",
   "execution_count": 34,
   "metadata": {},
   "outputs": [
    {
     "name": "stdout",
     "output_type": "stream",
     "text": [
      "[2, 4]\n"
     ]
    }
   ],
   "source": [
    "#WAP to demonstrate how to use lambda in filter() function. \n",
    "\n",
    "numbers = [1, 2, 3, 4, 5]\n",
    "even_numbers = list(filter(lambda x: x % 2 == 0, numbers))\n",
    "print(even_numbers)"
   ]
  },
  {
   "cell_type": "code",
   "execution_count": 33,
   "metadata": {},
   "outputs": [
    {
     "name": "stdout",
     "output_type": "stream",
     "text": [
      "Even numbers: [2, 4]\n",
      "Odd numbers: [1, 3, 5]\n"
     ]
    }
   ],
   "source": [
    "#Write a Python program to filter a list of integers into list of even numbers  and list of odd numbers using Lambda. [Hint: use lambda in filter() ] \n",
    "\n",
    "numbers = [1, 2, 3, 4, 5]\n",
    "even_numbers = list(filter(lambda x: x % 2 == 0, numbers))\n",
    "odd_numbers = list(filter(lambda x: x % 2 != 0, numbers))\n",
    "print(\"Even numbers:\", even_numbers)\n",
    "print(\"Odd numbers:\", odd_numbers)"
   ]
  },
  {
   "cell_type": "code",
   "execution_count": 35,
   "metadata": {},
   "outputs": [
    {
     "name": "stdout",
     "output_type": "stream",
     "text": [
      "Squared numbers: [1, 4, 9, 16, 25]\n",
      "Cube numbers: [1, 8, 27, 64, 125]\n"
     ]
    }
   ],
   "source": [
    "#Write a Python program to square and cube every number in a given list of  integers using Lambda. [Hint: use lambda in map() ]. \n",
    "\n",
    "numbers = [1, 2, 3, 4, 5]\n",
    "squared_numbers = list(map(lambda x: x**2, numbers))\n",
    "cube_numbers = list(map(lambda x: x**3, numbers))\n",
    "print(\"Squared numbers:\", squared_numbers)\n",
    "print(\"Cube numbers:\", cube_numbers)"
   ]
  },
  {
   "cell_type": "code",
   "execution_count": 36,
   "metadata": {},
   "outputs": [
    {
     "name": "stdout",
     "output_type": "stream",
     "text": [
      "Result: 25\n"
     ]
    }
   ],
   "source": [
    "#Write a Python program to create a lambda function that adds 15 to a given  number passed in as an argument. \n",
    "\n",
    "add_15 = lambda x: x + 15\n",
    "result = add_15(10)\n",
    "print(\"Result:\", result)"
   ]
  },
  {
   "cell_type": "code",
   "execution_count": 37,
   "metadata": {},
   "outputs": [
    {
     "name": "stdout",
     "output_type": "stream",
     "text": [
      "Result: 30\n"
     ]
    }
   ],
   "source": [
    "#Create a lambda function that multiplies argument x with argument y and  prints the resul\n",
    "\n",
    "\n",
    "multiply = lambda x, y: x * y\n",
    "result = multiply(5, 6)\n",
    "print(\"Result:\", result)"
   ]
  },
  {
   "cell_type": "code",
   "execution_count": 3,
   "metadata": {},
   "outputs": [],
   "source": [
    "\n",
    "import tkinter as tk\n",
    "\n",
    "def add_numbers():\n",
    "    num1 = int(entry1.get())\n",
    "    num2 = int(entry2.get())\n",
    "    result.set(num1 + num2)\n",
    "\n",
    "root = tk.Tk()\n",
    "root.title(\"Add Numbers\")\n",
    "\n",
    "entry1 = tk.Entry(root)\n",
    "entry1.pack()\n",
    "entry2 = tk.Entry(root)\n",
    "entry2.pack()\n",
    "result = tk.StringVar()\n",
    "label_result = tk.Label(root, textvariable=result)\n",
    "label_result.pack()\n",
    "\n",
    "button_add = tk.Button(root, text=\"Add\", command=add_numbers)\n",
    "button_add.pack()\n",
    "\n",
    "root.mainloop()\n",
    "\n",
    "\n"
   ]
  },
  {
   "cell_type": "code",
   "execution_count": 5,
   "metadata": {},
   "outputs": [
    {
     "name": "stdout",
     "output_type": "stream",
     "text": [
      "Fibonacci Series: 0 1 1 2 3 5 8 "
     ]
    }
   ],
   "source": [
    "num_terms = int(input(\"Enter the number of terms: \"))\n",
    "\n",
    "# Starting values\n",
    "a, b = 0, 1\n",
    "\n",
    "print(\"Fibonacci Series:\", end=\" \")\n",
    "for _ in range(num_terms):\n",
    "    print(a, end=\" \")\n",
    "    a, b = b, a + b"
   ]
  },
  {
   "cell_type": "code",
   "execution_count": 3,
   "metadata": {},
   "outputs": [],
   "source": [
    "import tkinter as tk\n",
    "\n",
    "def add_numbers():\n",
    "    num1 = int(entry1.get())\n",
    "    num2 = int(entry2.get())\n",
    "    result.set(num1 + num2)\n",
    "\n",
    "root = tk.Tk()\n",
    "root.title(\"Add Numbers\")\n",
    "\n",
    "entry1 = tk.Entry(root)\n",
    "entry1.pack()\n",
    "entry2 = tk.Entry(root)\n",
    "entry2.pack()\n",
    "result = tk.StringVar()\n",
    "label_result = tk.Label(root, textvariable=result)\n",
    "label_result.pack()\n",
    "\n",
    "button_add = tk.Button(root, text=\"Add\", command=add_numbers)\n",
    "button_add.pack()\n",
    "\n",
    "root.mainloop()\n"
   ]
  },
  {
   "cell_type": "code",
   "execution_count": 2,
   "metadata": {},
   "outputs": [
    {
     "ename": "",
     "evalue": "",
     "output_type": "error",
     "traceback": [
      "\u001b[1;31mThe Kernel crashed while executing code in the current cell or a previous cell. \n",
      "\u001b[1;31mPlease review the code in the cell(s) to identify a possible cause of the failure. \n",
      "\u001b[1;31mClick <a href='https://aka.ms/vscodeJupyterKernelCrash'>here</a> for more info. \n",
      "\u001b[1;31mView Jupyter <a href='command:jupyter.viewOutput'>log</a> for further details."
     ]
    }
   ],
   "source": [
    "import tkinter\n",
    "from tkinter import *\n",
    "\n",
    "root = Tk() #creating a window\n",
    "root.title(\"Calculator\")\n",
    "root.geometry(\"400x400\")\n",
    "root.resizable(0,0)\n",
    "root.configure(bg = \"powder blue\")\n",
    "\n",
    "e = Entry(root, width = 50, borderwidth = 5)\n",
    "e.grid(row = 0, column = 0, columnspan = 3, padx = 10, pady = 10)\n",
    "\n",
    "def button_click(number):   \n",
    "    current = e.get()\n",
    "    e.delete(0, END)\n",
    "    e.insert(0, str(current) + str(number))\n",
    "\n",
    "def button_clear():\n",
    "    e.delete(0, END)\n",
    "\n",
    "def button_add():   \n",
    "    first_number = e.get()\n",
    "    global f_num    \n",
    "    global math\n",
    "    math = \"addition\"\n",
    "    f_num = int(first_number)\n",
    "    e.delete(0, END)\n",
    "\n",
    "def button_equal():\n",
    "    second_number = e.get()\n",
    "    e.delete(0, END)\n",
    "    if math == \"addition\":\n",
    "        e.insert(0, f_num + int(second_number))\n",
    "    if math == \"subtraction\":\n",
    "        e.insert(0, f_num - int(second_number))\n",
    "    if math == \"multiplication\":\n",
    "        e.insert(0, f_num * int(second_number))\n",
    "    if math == \"division\":\n",
    "        e.insert(0, f_num / int(second_number))\n",
    "\n",
    "def button_subtract():   \n",
    "    first_number = e.get()\n",
    "    global f_num    \n",
    "    global math\n",
    "    math = \"subtraction\"\n",
    "    f_num = int(first_number)\n",
    "    e.delete(0, END)    \n",
    "\n",
    "def button_multiply():   \n",
    "    first_number = e.get()\n",
    "    global f_num    \n",
    "    global math\n",
    "    math = \"multiplication\"\n",
    "    f_num = int(first_number)   \n",
    "    e.delete(0, END)\n",
    "\n",
    "def button_divide():\n",
    "    first_number = e.get()\n",
    "    global f_num    \n",
    "    global math\n",
    "    math = \"division\"\n",
    "    f_num = int(first_number)   \n",
    "    e.delete(0, END)\n",
    "\n",
    "button_1 = Button(root, text = \"1\", padx = 40, pady = 20, command = lambda: button_click(1))\n"
   ]
  },
  {
   "cell_type": "code",
   "execution_count": 2,
   "metadata": {},
   "outputs": [
    {
     "ename": "KeyboardInterrupt",
     "evalue": "",
     "output_type": "error",
     "traceback": [
      "\u001b[0;31m---------------------------------------------------------------------------\u001b[0m",
      "\u001b[0;31mKeyboardInterrupt\u001b[0m                         Traceback (most recent call last)",
      "Cell \u001b[0;32mIn[2], line 20\u001b[0m\n\u001b[1;32m     17\u001b[0m label\u001b[38;5;241m.\u001b[39mpack(anchor\u001b[38;5;241m=\u001b[39m\u001b[38;5;124m'\u001b[39m\u001b[38;5;124mcenter\u001b[39m\u001b[38;5;124m'\u001b[39m)\n\u001b[1;32m     18\u001b[0m time()\n\u001b[0;32m---> 20\u001b[0m \u001b[43mmainloop\u001b[49m\u001b[43m(\u001b[49m\u001b[43m)\u001b[49m\n",
      "File \u001b[0;32m/Library/Frameworks/Python.framework/Versions/3.12/lib/python3.12/tkinter/__init__.py:653\u001b[0m, in \u001b[0;36mmainloop\u001b[0;34m(n)\u001b[0m\n\u001b[1;32m    651\u001b[0m \u001b[38;5;28;01mdef\u001b[39;00m \u001b[38;5;21mmainloop\u001b[39m(n\u001b[38;5;241m=\u001b[39m\u001b[38;5;241m0\u001b[39m):\n\u001b[1;32m    652\u001b[0m \u001b[38;5;250m    \u001b[39m\u001b[38;5;124;03m\"\"\"Run the main loop of Tcl.\"\"\"\u001b[39;00m\n\u001b[0;32m--> 653\u001b[0m     \u001b[43m_get_default_root\u001b[49m\u001b[43m(\u001b[49m\u001b[38;5;124;43m'\u001b[39;49m\u001b[38;5;124;43mrun the main loop\u001b[39;49m\u001b[38;5;124;43m'\u001b[39;49m\u001b[43m)\u001b[49m\u001b[38;5;241;43m.\u001b[39;49m\u001b[43mtk\u001b[49m\u001b[38;5;241;43m.\u001b[39;49m\u001b[43mmainloop\u001b[49m\u001b[43m(\u001b[49m\u001b[43mn\u001b[49m\u001b[43m)\u001b[49m\n",
      "\u001b[0;31mKeyboardInterrupt\u001b[0m: "
     ]
    }
   ],
   "source": [
    "#Create a digital clock GUI application with Python.\n",
    "\n",
    "from tkinter import *\n",
    "from time import strftime\n",
    "\n",
    "root = Tk()\n",
    "root.title(\"Digital Clock\")\n",
    "root.geometry(\"400x400\")\n",
    "root.resizable(0,0)\n",
    "\n",
    "def time():\n",
    "    string = strftime(\"%H:%M:%S %p\")\n",
    "    label.config(text=string)\n",
    "    label.after(1000, time)\n",
    "\n",
    "label = Label(root, font=(\"ds-digital\", 80), background = \"black\", foreground = \"white\")\n",
    "label.pack(anchor='center')\n",
    "time()\n",
    "\n",
    "mainloop()\n"
   ]
  },
  {
   "cell_type": "code",
   "execution_count": 2,
   "metadata": {},
   "outputs": [
    {
     "name": "stderr",
     "output_type": "stream",
     "text": [
      "Exception in Tkinter callback\n",
      "Traceback (most recent call last):\n",
      "  File \"/Library/Frameworks/Python.framework/Versions/3.12/lib/python3.12/tkinter/__init__.py\", line 1968, in __call__\n",
      "    return self.func(*args)\n",
      "           ^^^^^^^^^^^^^^^^\n",
      "  File \"/var/folders/yb/nfvj91tx14g5qhx0cxk5x6_w0000gn/T/ipykernel_23036/1403269885.py\", line 14, in calculate_si\n",
      "    time = float(time_entry.get())\n",
      "           ^^^^^^^^^^^^^^^^^^^^^^^\n",
      "ValueError: could not convert string to float: ''\n"
     ]
    }
   ],
   "source": [
    "#Create Simple Interest Calculator GUI application with Python.\n",
    "\n",
    "from tkinter import *\n",
    "from tkinter import messagebox\n",
    "\n",
    "root = Tk()\n",
    "root.title(\"Simple Interest Calculator\")\n",
    "root.geometry(\"400x400\")\n",
    "root.resizable(0,0)\n",
    "\n",
    "def calculate_si():\n",
    "    principal = float(principal_entry.get())\n",
    "    rate = float(rate_entry.get())\n",
    "    time = float(time_entry.get())\n",
    "    si = (principal * rate * time) / 100\n",
    "    messagebox.showinfo(\"Simple Interest\", f\"Simple Interest: {si}\")\n",
    "\n",
    "principal_label = Label(root, text=\"Principal Amount:\")\n",
    "principal_label.pack()\n",
    "\n",
    "principal_entry = Entry(root)\n",
    "principal_entry.pack()\n",
    "\n",
    "rate_label = Label(root, text=\"Rate of Interest:\")\n",
    "rate_label.pack()\n",
    "\n",
    "rate_entry = Entry(root)\n",
    "rate_entry.pack()\n",
    "\n",
    "time_label = Label(root, text=\"Time (in years):\")\n",
    "time_label.pack()\n",
    "\n",
    "time_entry = Entry(root)\n",
    "time_entry.pack()\n",
    "\n",
    "calculate_button = Button(root, text=\"Calculate\", command=calculate_si)\n",
    "calculate_button.pack()\n",
    "\n",
    "root.mainloop()"
   ]
  },
  {
   "cell_type": "code",
   "execution_count": 4,
   "metadata": {},
   "outputs": [],
   "source": [
    "import tkinter as tk\n",
    "\n",
    "def button_click(number):\n",
    "    current = entry.get()\n",
    "    entry.delete(0, tk.END)\n",
    "    entry.insert(0, current + str(number))\n",
    "\n",
    "def clear():\n",
    "    entry.delete(0, tk.END)\n",
    "\n",
    "def calculate():\n",
    "    try:\n",
    "        result = eval(entry.get())\n",
    "        entry.delete(0, tk.END)\n",
    "        entry.insert(0, str(result))\n",
    "    except Exception as e:\n",
    "        entry.delete(0, tk.END)\n",
    "        entry.insert(0, \"Error\")\n",
    "\n",
    "# Create the main window\n",
    "root = tk.Tk()\n",
    "root.title(\"Simple Calculator\")\n",
    "\n",
    "# Entry widget for displaying numbers and results\n",
    "entry = tk.Entry(root, width=35, borderwidth=5, justify=\"right\")\n",
    "entry.grid(row=0, column=0, columnspan=4, padx=10, pady=10)\n",
    "\n",
    "# Button labels and positions\n",
    "buttons = [\n",
    "    ('7', 1, 0), ('8', 1, 1), ('9', 1, 2), ('/', 1, 3),\n",
    "    ('4', 2, 0), ('5', 2, 1), ('6', 2, 2), ('*', 2, 3),\n",
    "    ('1', 3, 0), ('2', 3, 1), ('3', 3, 2), ('-', 3, 3),\n",
    "    ('C', 4, 0), ('0', 4, 1), ('=', 4, 2), ('+', 4, 3)\n",
    "]\n",
    "\n",
    "# Create buttons and add them to the grid\n",
    "for (text, row, col) in buttons:\n",
    "    if text == 'C':\n",
    "        button = tk.Button(root, text=text, padx=20, pady=20, command=clear)\n",
    "    elif text == '=':\n",
    "        button = tk.Button(root, text=text, padx=20, pady=20, command=calculate)\n",
    "    else:\n",
    "        button = tk.Button(root, text=text, padx=20, pady=20, command=lambda t=text: button_click(t))\n",
    "    button.grid(row=row, column=col)\n",
    "\n",
    "# Run the application\n",
    "root.mainloop()\n"
   ]
  },
  {
   "cell_type": "code",
   "execution_count": 6,
   "metadata": {},
   "outputs": [
    {
     "ename": "",
     "evalue": "",
     "output_type": "error",
     "traceback": [
      "\u001b[1;31mThe Kernel crashed while executing code in the current cell or a previous cell. \n",
      "\u001b[1;31mPlease review the code in the cell(s) to identify a possible cause of the failure. \n",
      "\u001b[1;31mClick <a href='https://aka.ms/vscodeJupyterKernelCrash'>here</a> for more info. \n",
      "\u001b[1;31mView Jupyter <a href='command:jupyter.viewOutput'>log</a> for further details."
     ]
    }
   ],
   "source": [
    "#Create a digital clock GUI application with Python.\n",
    "\n",
    "# Create a digital clock GUI application with Python.\n",
    "\n",
    "from tkinter import *\n",
    "from time import strftime\n",
    "\n",
    "root = Tk()\n",
    "root.title(\"Digital Clock\")\n",
    "root.geometry(\"400x400\")\n",
    "root.resizable(0, 0)\n",
    "\n",
    "# Set a background color or image\n",
    "root.configure(bg='lightblue')\n",
    "\n",
    "def time():\n",
    "    string = strftime(\"%H:%M:%S %p\")\n",
    "    label.config(text=string)\n",
    "    label.after(1000, time)\n",
    "\n",
    "# Create a label for the clock with enhanced styling\n",
    "label = Label(root, font=(\"ds-digital\", 80), background=\"black\", foreground=\"cyan\", bd=10, relief=SUNKEN)\n",
    "label.pack(anchor='center', pady=20)\n",
    "\n",
    "# Add a title label\n",
    "title_label = Label(root, text=\"Current Time\", font=(\"Arial\", 24), background='lightblue', foreground='darkblue')\n",
    "title_label.pack(anchor='center')\n",
    "\n",
    "time()\n",
    "\n",
    "root.mainloop()"
   ]
  }
 ],
 "metadata": {
  "kernelspec": {
   "display_name": "Python 3",
   "language": "python",
   "name": "python3"
  },
  "language_info": {
   "codemirror_mode": {
    "name": "ipython",
    "version": 3
   },
   "file_extension": ".py",
   "mimetype": "text/x-python",
   "name": "python",
   "nbconvert_exporter": "python",
   "pygments_lexer": "ipython3",
   "version": "3.12.6"
  }
 },
 "nbformat": 4,
 "nbformat_minor": 2
}
